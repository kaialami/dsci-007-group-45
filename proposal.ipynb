{
 "cells": [
  {
   "cell_type": "markdown",
   "id": "0837b949-1f97-418f-b43a-6c7a15668363",
   "metadata": {},
   "source": [
    "## Group proposal\n",
    "Title: Heart Disease Diagnostic Tool"
   ]
  },
  {
   "cell_type": "code",
   "execution_count": 2,
   "id": "d388ca57-44dd-41aa-9eb6-17a4bde105f6",
   "metadata": {},
   "outputs": [
    {
     "name": "stderr",
     "output_type": "stream",
     "text": [
      "── \u001b[1mAttaching packages\u001b[22m ─────────────────────────────────────── tidyverse 1.3.1 ──\n",
      "\n",
      "\u001b[32m✔\u001b[39m \u001b[34mggplot2\u001b[39m 3.3.6     \u001b[32m✔\u001b[39m \u001b[34mpurrr  \u001b[39m 0.3.4\n",
      "\u001b[32m✔\u001b[39m \u001b[34mtibble \u001b[39m 3.1.7     \u001b[32m✔\u001b[39m \u001b[34mdplyr  \u001b[39m 1.0.9\n",
      "\u001b[32m✔\u001b[39m \u001b[34mtidyr  \u001b[39m 1.2.0     \u001b[32m✔\u001b[39m \u001b[34mstringr\u001b[39m 1.4.0\n",
      "\u001b[32m✔\u001b[39m \u001b[34mreadr  \u001b[39m 2.1.2     \u001b[32m✔\u001b[39m \u001b[34mforcats\u001b[39m 0.5.1\n",
      "\n",
      "── \u001b[1mConflicts\u001b[22m ────────────────────────────────────────── tidyverse_conflicts() ──\n",
      "\u001b[31m✖\u001b[39m \u001b[34mdplyr\u001b[39m::\u001b[32mfilter()\u001b[39m         masks \u001b[34mstats\u001b[39m::filter()\n",
      "\u001b[31m✖\u001b[39m \u001b[34mreadr\u001b[39m::\u001b[32mguess_encoding()\u001b[39m masks \u001b[34mrvest\u001b[39m::guess_encoding()\n",
      "\u001b[31m✖\u001b[39m \u001b[34mdplyr\u001b[39m::\u001b[32mlag()\u001b[39m            masks \u001b[34mstats\u001b[39m::lag()\n",
      "\n",
      "── \u001b[1mAttaching packages\u001b[22m ────────────────────────────────────── tidymodels 1.0.0 ──\n",
      "\n",
      "\u001b[32m✔\u001b[39m \u001b[34mbroom       \u001b[39m 1.0.0     \u001b[32m✔\u001b[39m \u001b[34mrsample     \u001b[39m 1.0.0\n",
      "\u001b[32m✔\u001b[39m \u001b[34mdials       \u001b[39m 1.0.0     \u001b[32m✔\u001b[39m \u001b[34mtune        \u001b[39m 1.0.0\n",
      "\u001b[32m✔\u001b[39m \u001b[34minfer       \u001b[39m 1.0.2     \u001b[32m✔\u001b[39m \u001b[34mworkflows   \u001b[39m 1.0.0\n",
      "\u001b[32m✔\u001b[39m \u001b[34mmodeldata   \u001b[39m 1.0.0     \u001b[32m✔\u001b[39m \u001b[34mworkflowsets\u001b[39m 1.0.0\n",
      "\u001b[32m✔\u001b[39m \u001b[34mparsnip     \u001b[39m 1.0.0     \u001b[32m✔\u001b[39m \u001b[34myardstick   \u001b[39m 1.0.0\n",
      "\u001b[32m✔\u001b[39m \u001b[34mrecipes     \u001b[39m 1.0.1     \n",
      "\n",
      "── \u001b[1mConflicts\u001b[22m ───────────────────────────────────────── tidymodels_conflicts() ──\n",
      "\u001b[31m✖\u001b[39m \u001b[34mscales\u001b[39m::\u001b[32mdiscard()\u001b[39m masks \u001b[34mpurrr\u001b[39m::discard()\n",
      "\u001b[31m✖\u001b[39m \u001b[34mdplyr\u001b[39m::\u001b[32mfilter()\u001b[39m   masks \u001b[34mstats\u001b[39m::filter()\n",
      "\u001b[31m✖\u001b[39m \u001b[34mrecipes\u001b[39m::\u001b[32mfixed()\u001b[39m  masks \u001b[34mstringr\u001b[39m::fixed()\n",
      "\u001b[31m✖\u001b[39m \u001b[34mdplyr\u001b[39m::\u001b[32mlag()\u001b[39m      masks \u001b[34mstats\u001b[39m::lag()\n",
      "\u001b[31m✖\u001b[39m \u001b[34myardstick\u001b[39m::\u001b[32mspec()\u001b[39m masks \u001b[34mreadr\u001b[39m::spec()\n",
      "\u001b[31m✖\u001b[39m \u001b[34mrecipes\u001b[39m::\u001b[32mstep()\u001b[39m   masks \u001b[34mstats\u001b[39m::step()\n",
      "\u001b[34m•\u001b[39m Dig deeper into tidy modeling with R at \u001b[32mhttps://www.tmwr.org\u001b[39m\n",
      "\n"
     ]
    }
   ],
   "source": [
    "library(rvest)\n",
    "library(tidyverse)\n",
    "library(repr)\n",
    "library(tidymodels)\n",
    "options(repr.matrix.max.rows = 6)"
   ]
  },
  {
   "cell_type": "markdown",
   "id": "6de03826-18f9-4f1a-8867-4bf126d800c9",
   "metadata": {},
   "source": [
    "Introduction: "
   ]
  },
  {
   "cell_type": "code",
   "execution_count": null,
   "id": "c4cb2088-3cc3-4065-ab13-81013d9aad3d",
   "metadata": {},
   "outputs": [
    {
     "ename": "ERROR",
     "evalue": "Error in parse(text = x, srcfile = src): <text>:16:52: unexpected '='\n15:                      cholesterol = X5,\n16:                      fasting_blood_sugar_above120? =\n                                                       ^\n",
     "output_type": "error",
     "traceback": [
      "Error in parse(text = x, srcfile = src): <text>:16:52: unexpected '='\n15:                      cholesterol = X5,\n16:                      fasting_blood_sugar_above120? =\n                                                       ^\nTraceback:\n"
     ]
    }
   ],
   "source": [
    "set.seed(293)\n",
    "\n",
    "dataset_test <- download.file(\n",
    "    \"https://archive.ics.uci.edu/ml/machine-learning-databases/heart-disease/processed.cleveland.data\", \n",
    "    \"heart_disease.csv\")\n",
    "\n",
    "heart_data <- read_csv(\"heart_disease.csv\", col_names = FALSE)\n",
    "\n",
    "\n",
    "heart_data <- rename(heart_data, \n",
    "                     age =X1,\n",
    "                     sex =X2,\n",
    "                     cp =X3,\n",
    "                     trestbps =X4,\n",
    "                     chol = X5,\n",
    "                     fbs =X6,\n",
    "                     restecg=X7,\n",
    "                     thalach=X8,\n",
    "                     exang=X9,\n",
    "                     oldpeak=X10,\n",
    "                     slope=X11,\n",
    "                     ca=X12,\n",
    "                     thal=X13,\n",
    "                     diagnosis=X14)\n",
    "\n",
    "idx <- heart_data == \"?\"\n",
    "is.na(heart_data) <- idx                                 #eliminates ? and replaces with NA\n",
    "\n",
    "heart_data[] <- sapply(heart_data, as.numeric) #converts all the data to numeric\n",
    "\n",
    "names = c('sex', 'cp', 'exang', 'slope', 'thal', 'diagnosis', \"restecg\", \"ca\", \"fbs\") #unsure if ca is a factor\n",
    "heart_data[,names] <- lapply(heart_data[,names] , factor)\n",
    "\n",
    "heart_data <- mutate(heart_data, diagnosis = ifelse(diagnosis == \"1\"|diagnosis == \"2\"|diagnosis == \"3\"|diagnosis == \"4\", \"Positive\", \"Negative\"))\n",
    "heart_data <- mutate(heart_data, diagnosis = as.factor(diagnosis))          #changes the diagnosis values to strings\n",
    "\n",
    "heart_data\n",
    "\n",
    "\n",
    "\n",
    "heart_split <- initial_split(heart_data, prop = 0.75, strata = diagnosis)          #splits data\n",
    "heart_train <- training(heart_split)\n",
    "heart_test <- testing(heart_split) \n",
    "\n",
    "heart_train\n",
    "\n",
    "train_summary <- heart_train |>\n",
    "    summarize(across(age:diagnosis, mean, na.rm=TRUE))\n",
    "train_summary\n",
    "\n",
    "count_train_summary <- group_by(heart_train, diagnosis) |>\n",
    "    summarize(count=n())\n",
    "count_train_summary\n",
    "\n",
    "table(heart_train$diagnosis, useNA = \"ifany\")                 # potential way to get the count of each class \n",
    "# heart_table = matrix(c(1:70), ncol = 14, byrow=TRUE)\n",
    "# colnames(heart_table) = c(\"age\",\"sex\", \"cp\", \"trestbps\", \"chol\", \"fbs\", \"restecg\", \"thalach\", \n",
    "#                           \"exang\", \"oldpeak\", \"slope\", \"ca\", \"thal\", \"diagnosis\")\n",
    "# rownames(heart_table) <- c(\"mean\", \"sd\", \"observations\", \"min\", \"max\")\n",
    "\n",
    "# heart_table\n",
    "\n",
    "\n",
    "\n",
    "\n",
    "\n",
    "heart_test <- heart_train |>\n",
    "    group_by(diagnosis) |>\n",
    "    summarize(across(age:thal, mean, na.rm=TRUE))      #Gives table of mean based on diagnosis\n",
    "heart_test\n",
    "\n",
    "\n",
    "# heart_test_graph <- heart_train |>\n",
    "#     ggplot(aes(x = diagnosis, y = thalach)) + #color = diagnosis)) +\n",
    "#     geom_point()\n",
    "\n",
    "# heart_test_graph"
   ]
  },
  {
   "cell_type": "code",
   "execution_count": 5,
   "id": "4d566cab-25f5-4fa2-8f5c-0cb469682d15",
   "metadata": {},
   "outputs": [
    {
     "data": {
      "text/html": [
       "<table class=\"dataframe\">\n",
       "<caption>A tibble: 227 × 14</caption>\n",
       "<thead>\n",
       "\t<tr><th scope=col>age</th><th scope=col>sex</th><th scope=col>cp</th><th scope=col>trestbps</th><th scope=col>chol</th><th scope=col>fbs</th><th scope=col>restecg</th><th scope=col>thalach</th><th scope=col>exang</th><th scope=col>oldpeak</th><th scope=col>slope</th><th scope=col>ca</th><th scope=col>thal</th><th scope=col>diagnosis</th></tr>\n",
       "\t<tr><th scope=col>&lt;dbl&gt;</th><th scope=col>&lt;fct&gt;</th><th scope=col>&lt;fct&gt;</th><th scope=col>&lt;dbl&gt;</th><th scope=col>&lt;dbl&gt;</th><th scope=col>&lt;fct&gt;</th><th scope=col>&lt;fct&gt;</th><th scope=col>&lt;dbl&gt;</th><th scope=col>&lt;fct&gt;</th><th scope=col>&lt;dbl&gt;</th><th scope=col>&lt;fct&gt;</th><th scope=col>&lt;fct&gt;</th><th scope=col>&lt;fct&gt;</th><th scope=col>&lt;fct&gt;</th></tr>\n",
       "</thead>\n",
       "<tbody>\n",
       "\t<tr><td>63</td><td>1</td><td>1</td><td>145</td><td>233</td><td>1</td><td>2</td><td>150</td><td>0</td><td>2.3</td><td>3</td><td>0</td><td>6</td><td>Negative</td></tr>\n",
       "\t<tr><td>37</td><td>1</td><td>3</td><td>130</td><td>250</td><td>0</td><td>0</td><td>187</td><td>0</td><td>3.5</td><td>3</td><td>0</td><td>3</td><td>Negative</td></tr>\n",
       "\t<tr><td>41</td><td>0</td><td>2</td><td>130</td><td>204</td><td>0</td><td>2</td><td>172</td><td>0</td><td>1.4</td><td>1</td><td>0</td><td>3</td><td>Negative</td></tr>\n",
       "\t<tr><td>⋮</td><td>⋮</td><td>⋮</td><td>⋮</td><td>⋮</td><td>⋮</td><td>⋮</td><td>⋮</td><td>⋮</td><td>⋮</td><td>⋮</td><td>⋮</td><td>⋮</td><td>⋮</td></tr>\n",
       "\t<tr><td>68</td><td>1</td><td>4</td><td>144</td><td>193</td><td>1</td><td>0</td><td>141</td><td>0</td><td>3.4</td><td>2</td><td>2</td><td>7</td><td>Positive</td></tr>\n",
       "\t<tr><td>57</td><td>1</td><td>4</td><td>130</td><td>131</td><td>0</td><td>0</td><td>115</td><td>1</td><td>1.2</td><td>2</td><td>1</td><td>7</td><td>Positive</td></tr>\n",
       "\t<tr><td>57</td><td>0</td><td>2</td><td>130</td><td>236</td><td>0</td><td>2</td><td>174</td><td>0</td><td>0.0</td><td>2</td><td>1</td><td>3</td><td>Positive</td></tr>\n",
       "</tbody>\n",
       "</table>\n"
      ],
      "text/latex": [
       "A tibble: 227 × 14\n",
       "\\begin{tabular}{llllllllllllll}\n",
       " age & sex & cp & trestbps & chol & fbs & restecg & thalach & exang & oldpeak & slope & ca & thal & diagnosis\\\\\n",
       " <dbl> & <fct> & <fct> & <dbl> & <dbl> & <fct> & <fct> & <dbl> & <fct> & <dbl> & <fct> & <fct> & <fct> & <fct>\\\\\n",
       "\\hline\n",
       "\t 63 & 1 & 1 & 145 & 233 & 1 & 2 & 150 & 0 & 2.3 & 3 & 0 & 6 & Negative\\\\\n",
       "\t 37 & 1 & 3 & 130 & 250 & 0 & 0 & 187 & 0 & 3.5 & 3 & 0 & 3 & Negative\\\\\n",
       "\t 41 & 0 & 2 & 130 & 204 & 0 & 2 & 172 & 0 & 1.4 & 1 & 0 & 3 & Negative\\\\\n",
       "\t ⋮ & ⋮ & ⋮ & ⋮ & ⋮ & ⋮ & ⋮ & ⋮ & ⋮ & ⋮ & ⋮ & ⋮ & ⋮ & ⋮\\\\\n",
       "\t 68 & 1 & 4 & 144 & 193 & 1 & 0 & 141 & 0 & 3.4 & 2 & 2 & 7 & Positive\\\\\n",
       "\t 57 & 1 & 4 & 130 & 131 & 0 & 0 & 115 & 1 & 1.2 & 2 & 1 & 7 & Positive\\\\\n",
       "\t 57 & 0 & 2 & 130 & 236 & 0 & 2 & 174 & 0 & 0.0 & 2 & 1 & 3 & Positive\\\\\n",
       "\\end{tabular}\n"
      ],
      "text/markdown": [
       "\n",
       "A tibble: 227 × 14\n",
       "\n",
       "| age &lt;dbl&gt; | sex &lt;fct&gt; | cp &lt;fct&gt; | trestbps &lt;dbl&gt; | chol &lt;dbl&gt; | fbs &lt;fct&gt; | restecg &lt;fct&gt; | thalach &lt;dbl&gt; | exang &lt;fct&gt; | oldpeak &lt;dbl&gt; | slope &lt;fct&gt; | ca &lt;fct&gt; | thal &lt;fct&gt; | diagnosis &lt;fct&gt; |\n",
       "|---|---|---|---|---|---|---|---|---|---|---|---|---|---|\n",
       "| 63 | 1 | 1 | 145 | 233 | 1 | 2 | 150 | 0 | 2.3 | 3 | 0 | 6 | Negative |\n",
       "| 37 | 1 | 3 | 130 | 250 | 0 | 0 | 187 | 0 | 3.5 | 3 | 0 | 3 | Negative |\n",
       "| 41 | 0 | 2 | 130 | 204 | 0 | 2 | 172 | 0 | 1.4 | 1 | 0 | 3 | Negative |\n",
       "| ⋮ | ⋮ | ⋮ | ⋮ | ⋮ | ⋮ | ⋮ | ⋮ | ⋮ | ⋮ | ⋮ | ⋮ | ⋮ | ⋮ |\n",
       "| 68 | 1 | 4 | 144 | 193 | 1 | 0 | 141 | 0 | 3.4 | 2 | 2 | 7 | Positive |\n",
       "| 57 | 1 | 4 | 130 | 131 | 0 | 0 | 115 | 1 | 1.2 | 2 | 1 | 7 | Positive |\n",
       "| 57 | 0 | 2 | 130 | 236 | 0 | 2 | 174 | 0 | 0.0 | 2 | 1 | 3 | Positive |\n",
       "\n"
      ],
      "text/plain": [
       "    age sex cp trestbps chol fbs restecg thalach exang oldpeak slope ca thal\n",
       "1   63  1   1  145      233  1   2       150     0     2.3     3     0  6   \n",
       "2   37  1   3  130      250  0   0       187     0     3.5     3     0  3   \n",
       "3   41  0   2  130      204  0   2       172     0     1.4     1     0  3   \n",
       "⋮   ⋮   ⋮   ⋮  ⋮        ⋮    ⋮   ⋮       ⋮       ⋮     ⋮       ⋮     ⋮  ⋮   \n",
       "225 68  1   4  144      193  1   0       141     0     3.4     2     2  7   \n",
       "226 57  1   4  130      131  0   0       115     1     1.2     2     1  7   \n",
       "227 57  0   2  130      236  0   2       174     0     0.0     2     1  3   \n",
       "    diagnosis\n",
       "1   Negative \n",
       "2   Negative \n",
       "3   Negative \n",
       "⋮   ⋮        \n",
       "225 Positive \n",
       "226 Positive \n",
       "227 Positive "
      ]
     },
     "metadata": {},
     "output_type": "display_data"
    }
   ],
   "source": [
    "heart_train"
   ]
  },
  {
   "cell_type": "code",
   "execution_count": 7,
   "id": "1e38d4d6-856e-43f5-a708-df6bca70b285",
   "metadata": {},
   "outputs": [
    {
     "data": {
      "text/html": [
       "<table class=\"dataframe\">\n",
       "<caption>A tibble: 2 × 6</caption>\n",
       "<thead>\n",
       "\t<tr><th scope=col>diagnosis</th><th scope=col>age</th><th scope=col>trestbps</th><th scope=col>chol</th><th scope=col>thalach</th><th scope=col>oldpeak</th></tr>\n",
       "\t<tr><th scope=col>&lt;fct&gt;</th><th scope=col>&lt;dbl&gt;</th><th scope=col>&lt;dbl&gt;</th><th scope=col>&lt;dbl&gt;</th><th scope=col>&lt;dbl&gt;</th><th scope=col>&lt;dbl&gt;</th></tr>\n",
       "</thead>\n",
       "<tbody>\n",
       "\t<tr><td>Negative</td><td>51.82114</td><td>128.3008</td><td>237.8862</td><td>158.9675</td><td>0.5699187</td></tr>\n",
       "\t<tr><td>Positive</td><td>56.58654</td><td>132.1442</td><td>250.1635</td><td>139.1250</td><td>1.5788462</td></tr>\n",
       "</tbody>\n",
       "</table>\n"
      ],
      "text/latex": [
       "A tibble: 2 × 6\n",
       "\\begin{tabular}{llllll}\n",
       " diagnosis & age & trestbps & chol & thalach & oldpeak\\\\\n",
       " <fct> & <dbl> & <dbl> & <dbl> & <dbl> & <dbl>\\\\\n",
       "\\hline\n",
       "\t Negative & 51.82114 & 128.3008 & 237.8862 & 158.9675 & 0.5699187\\\\\n",
       "\t Positive & 56.58654 & 132.1442 & 250.1635 & 139.1250 & 1.5788462\\\\\n",
       "\\end{tabular}\n"
      ],
      "text/markdown": [
       "\n",
       "A tibble: 2 × 6\n",
       "\n",
       "| diagnosis &lt;fct&gt; | age &lt;dbl&gt; | trestbps &lt;dbl&gt; | chol &lt;dbl&gt; | thalach &lt;dbl&gt; | oldpeak &lt;dbl&gt; |\n",
       "|---|---|---|---|---|---|\n",
       "| Negative | 51.82114 | 128.3008 | 237.8862 | 158.9675 | 0.5699187 |\n",
       "| Positive | 56.58654 | 132.1442 | 250.1635 | 139.1250 | 1.5788462 |\n",
       "\n"
      ],
      "text/plain": [
       "  diagnosis age      trestbps chol     thalach  oldpeak  \n",
       "1 Negative  51.82114 128.3008 237.8862 158.9675 0.5699187\n",
       "2 Positive  56.58654 132.1442 250.1635 139.1250 1.5788462"
      ]
     },
     "metadata": {},
     "output_type": "display_data"
    }
   ],
   "source": [
    "stats_avg <- heart_train |>\n",
    "    select(age, trestbps, chol, thalach, oldpeak, diagnosis) |>\n",
    "    group_by(diagnosis) |>\n",
    "    summarize(across(age:oldpeak, mean, na.rm = TRUE))\n",
    "\n",
    "stats_avg"
   ]
  },
  {
   "cell_type": "code",
   "execution_count": 17,
   "id": "0f9671d4-f4b9-49cb-81fd-4d5daca7583c",
   "metadata": {},
   "outputs": [
    {
     "name": "stderr",
     "output_type": "stream",
     "text": [
      "\u001b[1m\u001b[22m`summarise()` has grouped output by 'diagnosis'. You can override using the\n",
      "`.groups` argument.\n"
     ]
    },
    {
     "data": {
      "text/html": [
       "<table class=\"dataframe\">\n",
       "<caption>A grouped_df: 4 × 3</caption>\n",
       "<thead>\n",
       "\t<tr><th scope=col>diagnosis</th><th scope=col>sex</th><th scope=col>count</th></tr>\n",
       "\t<tr><th scope=col>&lt;fct&gt;</th><th scope=col>&lt;fct&gt;</th><th scope=col>&lt;int&gt;</th></tr>\n",
       "</thead>\n",
       "<tbody>\n",
       "\t<tr><td>Negative</td><td>0</td><td>52</td></tr>\n",
       "\t<tr><td>Negative</td><td>1</td><td>71</td></tr>\n",
       "\t<tr><td>Positive</td><td>0</td><td>19</td></tr>\n",
       "\t<tr><td>Positive</td><td>1</td><td>85</td></tr>\n",
       "</tbody>\n",
       "</table>\n"
      ],
      "text/latex": [
       "A grouped\\_df: 4 × 3\n",
       "\\begin{tabular}{lll}\n",
       " diagnosis & sex & count\\\\\n",
       " <fct> & <fct> & <int>\\\\\n",
       "\\hline\n",
       "\t Negative & 0 & 52\\\\\n",
       "\t Negative & 1 & 71\\\\\n",
       "\t Positive & 0 & 19\\\\\n",
       "\t Positive & 1 & 85\\\\\n",
       "\\end{tabular}\n"
      ],
      "text/markdown": [
       "\n",
       "A grouped_df: 4 × 3\n",
       "\n",
       "| diagnosis &lt;fct&gt; | sex &lt;fct&gt; | count &lt;int&gt; |\n",
       "|---|---|---|\n",
       "| Negative | 0 | 52 |\n",
       "| Negative | 1 | 71 |\n",
       "| Positive | 0 | 19 |\n",
       "| Positive | 1 | 85 |\n",
       "\n"
      ],
      "text/plain": [
       "  diagnosis sex count\n",
       "1 Negative  0   52   \n",
       "2 Negative  1   71   \n",
       "3 Positive  0   19   \n",
       "4 Positive  1   85   "
      ]
     },
     "metadata": {},
     "output_type": "display_data"
    },
    {
     "name": "stderr",
     "output_type": "stream",
     "text": [
      "\u001b[1m\u001b[22m`summarise()` has grouped output by 'diagnosis'. You can override using the\n",
      "`.groups` argument.\n"
     ]
    },
    {
     "data": {
      "text/html": [
       "<table class=\"dataframe\">\n",
       "<caption>A grouped_df: 8 × 3</caption>\n",
       "<thead>\n",
       "\t<tr><th scope=col>diagnosis</th><th scope=col>cp</th><th scope=col>count</th></tr>\n",
       "\t<tr><th scope=col>&lt;fct&gt;</th><th scope=col>&lt;fct&gt;</th><th scope=col>&lt;int&gt;</th></tr>\n",
       "</thead>\n",
       "<tbody>\n",
       "\t<tr><td>Negative</td><td>1</td><td>10</td></tr>\n",
       "\t<tr><td>Negative</td><td>2</td><td>35</td></tr>\n",
       "\t<tr><td>Negative</td><td>3</td><td>49</td></tr>\n",
       "\t<tr><td>⋮</td><td>⋮</td><td>⋮</td></tr>\n",
       "\t<tr><td>Positive</td><td>2</td><td> 8</td></tr>\n",
       "\t<tr><td>Positive</td><td>3</td><td>13</td></tr>\n",
       "\t<tr><td>Positive</td><td>4</td><td>78</td></tr>\n",
       "</tbody>\n",
       "</table>\n"
      ],
      "text/latex": [
       "A grouped\\_df: 8 × 3\n",
       "\\begin{tabular}{lll}\n",
       " diagnosis & cp & count\\\\\n",
       " <fct> & <fct> & <int>\\\\\n",
       "\\hline\n",
       "\t Negative & 1 & 10\\\\\n",
       "\t Negative & 2 & 35\\\\\n",
       "\t Negative & 3 & 49\\\\\n",
       "\t ⋮ & ⋮ & ⋮\\\\\n",
       "\t Positive & 2 &  8\\\\\n",
       "\t Positive & 3 & 13\\\\\n",
       "\t Positive & 4 & 78\\\\\n",
       "\\end{tabular}\n"
      ],
      "text/markdown": [
       "\n",
       "A grouped_df: 8 × 3\n",
       "\n",
       "| diagnosis &lt;fct&gt; | cp &lt;fct&gt; | count &lt;int&gt; |\n",
       "|---|---|---|\n",
       "| Negative | 1 | 10 |\n",
       "| Negative | 2 | 35 |\n",
       "| Negative | 3 | 49 |\n",
       "| ⋮ | ⋮ | ⋮ |\n",
       "| Positive | 2 |  8 |\n",
       "| Positive | 3 | 13 |\n",
       "| Positive | 4 | 78 |\n",
       "\n"
      ],
      "text/plain": [
       "  diagnosis cp count\n",
       "1 Negative  1  10   \n",
       "2 Negative  2  35   \n",
       "3 Negative  3  49   \n",
       "⋮ ⋮         ⋮  ⋮    \n",
       "6 Positive  2   8   \n",
       "7 Positive  3  13   \n",
       "8 Positive  4  78   "
      ]
     },
     "metadata": {},
     "output_type": "display_data"
    },
    {
     "name": "stderr",
     "output_type": "stream",
     "text": [
      "\u001b[1m\u001b[22m`summarise()` has grouped output by 'diagnosis'. You can override using the\n",
      "`.groups` argument.\n",
      "\u001b[1m\u001b[22m`summarise()` has grouped output by 'diagnosis'. You can override using the\n",
      "`.groups` argument.\n",
      "\u001b[1m\u001b[22m`summarise()` has grouped output by 'diagnosis'. You can override using the\n",
      "`.groups` argument.\n",
      "\u001b[1m\u001b[22m`summarise()` has grouped output by 'diagnosis'. You can override using the\n",
      "`.groups` argument.\n",
      "\u001b[1m\u001b[22m`summarise()` has grouped output by 'diagnosis'. You can override using the\n",
      "`.groups` argument.\n",
      "\u001b[1m\u001b[22m`summarise()` has grouped output by 'diagnosis'. You can override using the\n",
      "`.groups` argument.\n"
     ]
    },
    {
     "data": {
      "text/html": [
       "<table class=\"dataframe\">\n",
       "<caption>A grouped_df: 47 × 10</caption>\n",
       "<thead>\n",
       "\t<tr><th scope=col>diagnosis</th><th scope=col>sex</th><th scope=col>count</th><th scope=col>cp</th><th scope=col>fbs</th><th scope=col>restecg</th><th scope=col>exang</th><th scope=col>slope</th><th scope=col>ca</th><th scope=col>thal</th></tr>\n",
       "\t<tr><th scope=col>&lt;fct&gt;</th><th scope=col>&lt;fct&gt;</th><th scope=col>&lt;int&gt;</th><th scope=col>&lt;fct&gt;</th><th scope=col>&lt;fct&gt;</th><th scope=col>&lt;fct&gt;</th><th scope=col>&lt;fct&gt;</th><th scope=col>&lt;fct&gt;</th><th scope=col>&lt;fct&gt;</th><th scope=col>&lt;fct&gt;</th></tr>\n",
       "</thead>\n",
       "<tbody>\n",
       "\t<tr><td>Negative</td><td>0</td><td>52</td><td>NA</td><td>NA</td><td>NA</td><td>NA</td><td>NA</td><td>NA</td><td>NA</td></tr>\n",
       "\t<tr><td>Negative</td><td>1</td><td>71</td><td>NA</td><td>NA</td><td>NA</td><td>NA</td><td>NA</td><td>NA</td><td>NA</td></tr>\n",
       "\t<tr><td>Positive</td><td>0</td><td>19</td><td>NA</td><td>NA</td><td>NA</td><td>NA</td><td>NA</td><td>NA</td><td>NA</td></tr>\n",
       "\t<tr><td>⋮</td><td>⋮</td><td>⋮</td><td>⋮</td><td>⋮</td><td>⋮</td><td>⋮</td><td>⋮</td><td>⋮</td><td>⋮</td></tr>\n",
       "\t<tr><td>Positive</td><td>NA</td><td>27</td><td>NA</td><td>NA</td><td>NA</td><td>NA</td><td>NA</td><td>NA</td><td>3</td></tr>\n",
       "\t<tr><td>Positive</td><td>NA</td><td> 8</td><td>NA</td><td>NA</td><td>NA</td><td>NA</td><td>NA</td><td>NA</td><td>6</td></tr>\n",
       "\t<tr><td>Positive</td><td>NA</td><td>69</td><td>NA</td><td>NA</td><td>NA</td><td>NA</td><td>NA</td><td>NA</td><td>7</td></tr>\n",
       "</tbody>\n",
       "</table>\n"
      ],
      "text/latex": [
       "A grouped\\_df: 47 × 10\n",
       "\\begin{tabular}{llllllllll}\n",
       " diagnosis & sex & count & cp & fbs & restecg & exang & slope & ca & thal\\\\\n",
       " <fct> & <fct> & <int> & <fct> & <fct> & <fct> & <fct> & <fct> & <fct> & <fct>\\\\\n",
       "\\hline\n",
       "\t Negative & 0 & 52 & NA & NA & NA & NA & NA & NA & NA\\\\\n",
       "\t Negative & 1 & 71 & NA & NA & NA & NA & NA & NA & NA\\\\\n",
       "\t Positive & 0 & 19 & NA & NA & NA & NA & NA & NA & NA\\\\\n",
       "\t ⋮ & ⋮ & ⋮ & ⋮ & ⋮ & ⋮ & ⋮ & ⋮ & ⋮ & ⋮\\\\\n",
       "\t Positive & NA & 27 & NA & NA & NA & NA & NA & NA & 3\\\\\n",
       "\t Positive & NA &  8 & NA & NA & NA & NA & NA & NA & 6\\\\\n",
       "\t Positive & NA & 69 & NA & NA & NA & NA & NA & NA & 7\\\\\n",
       "\\end{tabular}\n"
      ],
      "text/markdown": [
       "\n",
       "A grouped_df: 47 × 10\n",
       "\n",
       "| diagnosis &lt;fct&gt; | sex &lt;fct&gt; | count &lt;int&gt; | cp &lt;fct&gt; | fbs &lt;fct&gt; | restecg &lt;fct&gt; | exang &lt;fct&gt; | slope &lt;fct&gt; | ca &lt;fct&gt; | thal &lt;fct&gt; |\n",
       "|---|---|---|---|---|---|---|---|---|---|\n",
       "| Negative | 0 | 52 | NA | NA | NA | NA | NA | NA | NA |\n",
       "| Negative | 1 | 71 | NA | NA | NA | NA | NA | NA | NA |\n",
       "| Positive | 0 | 19 | NA | NA | NA | NA | NA | NA | NA |\n",
       "| ⋮ | ⋮ | ⋮ | ⋮ | ⋮ | ⋮ | ⋮ | ⋮ | ⋮ | ⋮ |\n",
       "| Positive | NA | 27 | NA | NA | NA | NA | NA | NA | 3 |\n",
       "| Positive | NA |  8 | NA | NA | NA | NA | NA | NA | 6 |\n",
       "| Positive | NA | 69 | NA | NA | NA | NA | NA | NA | 7 |\n",
       "\n"
      ],
      "text/plain": [
       "   diagnosis sex count cp fbs restecg exang slope ca thal\n",
       "1  Negative  0   52    NA NA  NA      NA    NA    NA NA  \n",
       "2  Negative  1   71    NA NA  NA      NA    NA    NA NA  \n",
       "3  Positive  0   19    NA NA  NA      NA    NA    NA NA  \n",
       "⋮  ⋮         ⋮   ⋮     ⋮  ⋮   ⋮       ⋮     ⋮     ⋮  ⋮   \n",
       "45 Positive  NA  27    NA NA  NA      NA    NA    NA 3   \n",
       "46 Positive  NA   8    NA NA  NA      NA    NA    NA 6   \n",
       "47 Positive  NA  69    NA NA  NA      NA    NA    NA 7   "
      ]
     },
     "metadata": {},
     "output_type": "display_data"
    }
   ],
   "source": [
    "sex_count <- heart_train |>\n",
    "    group_by(diagnosis, sex) |>\n",
    "    summarize(count = n())\n",
    "sex_count\n",
    "\n",
    "cp_count <- heart_train |>\n",
    "    group_by(diagnosis, cp) |>\n",
    "    summarize(count = n())\n",
    "cp_count\n",
    "\n",
    "fbs_count <- heart_train |>\n",
    "    group_by(diagnosis, fbs) |>\n",
    "    summarize(count = n())\n",
    "\n",
    "restecg_count <- heart_train |>\n",
    "    group_by(diagnosis, restecg) |>\n",
    "    summarize(count = n())\n",
    "\n",
    "exang_count <- heart_train |>\n",
    "    group_by(diagnosis, exang) |>\n",
    "    summarize(count = n())\n",
    "\n",
    "slope_count <- heart_train |>\n",
    "    group_by(diagnosis, slope) |>\n",
    "    summarize(count = n())\n",
    "\n",
    "ca_count <- heart_train |>\n",
    "    group_by(diagnosis, ca) |>\n",
    "    summarize(count = n())\n",
    "\n",
    "thal_count <- heart_train |>\n",
    "    group_by(diagnosis, thal) |>\n",
    "    summarize(count = n())\n",
    "\n",
    "\n",
    "stats_count_factors <- sex_count |>\n",
    "    rbind(cp_count) |>\n",
    "    rbind(fbs_count) |>\n",
    "    rbind(restecg_count) |>\n",
    "    rbind(exang_count) |>\n",
    "    rbind(slope_count) |>\n",
    "    rbind(ca_count) |>\n",
    "    rbind(thal_count)\n",
    "\n",
    "stats_count_factors"
   ]
  },
  {
   "cell_type": "code",
   "execution_count": null,
   "id": "a35e0717-ffde-4f16-8a49-11c6a3dcc174",
   "metadata": {},
   "outputs": [],
   "source": []
  },
  {
   "cell_type": "code",
   "execution_count": null,
   "id": "b7a3f6ec-3727-461c-853e-f7638df30829",
   "metadata": {},
   "outputs": [],
   "source": []
  }
 ],
 "metadata": {
  "kernelspec": {
   "display_name": "R",
   "language": "R",
   "name": "ir"
  },
  "language_info": {
   "codemirror_mode": "r",
   "file_extension": ".r",
   "mimetype": "text/x-r-source",
   "name": "R",
   "pygments_lexer": "r",
   "version": "4.1.3"
  }
 },
 "nbformat": 4,
 "nbformat_minor": 5
}
