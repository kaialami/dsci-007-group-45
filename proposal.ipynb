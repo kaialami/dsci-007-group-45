{
 "cells": [
  {
   "cell_type": "markdown",
   "id": "0837b949-1f97-418f-b43a-6c7a15668363",
   "metadata": {},
   "source": [
    "## Group proposal"
   ]
  },
  {
   "cell_type": "code",
   "execution_count": null,
   "id": "47582385-2f22-46e2-bdb3-c210dc144f4d",
   "metadata": {},
   "outputs": [],
   "source": []
  }
 ],
 "metadata": {
  "kernelspec": {
   "display_name": "R",
   "language": "R",
   "name": "ir"
  },
  "language_info": {
   "codemirror_mode": "r",
   "file_extension": ".r",
   "mimetype": "text/x-r-source",
   "name": "R",
   "pygments_lexer": "r",
   "version": "4.1.3"
  }
 },
 "nbformat": 4,
 "nbformat_minor": 5
}
