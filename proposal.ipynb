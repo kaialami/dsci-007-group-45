{
 "cells": [
  {
   "cell_type": "markdown",
   "id": "0837b949-1f97-418f-b43a-6c7a15668363",
   "metadata": {},
   "source": [
    "## Group proposal\n",
    "Title: Heart Disease Diagnostic Tool"
   ]
  },
  {
   "cell_type": "code",
   "execution_count": 23,
   "id": "d388ca57-44dd-41aa-9eb6-17a4bde105f6",
   "metadata": {},
   "outputs": [],
   "source": [
    "library(rvest)\n",
    "library(tidyverse)\n",
    "library(repr)\n",
    "library(tidymodels)\n",
    "options(repr.matrix.max.rows = 6)"
   ]
  },
  {
   "cell_type": "markdown",
   "id": "6de03826-18f9-4f1a-8867-4bf126d800c9",
   "metadata": {},
   "source": [
    "Introduction: "
   ]
  },
  {
   "cell_type": "code",
   "execution_count": 38,
   "id": "c4cb2088-3cc3-4065-ab13-81013d9aad3d",
   "metadata": {},
   "outputs": [
    {
     "name": "stderr",
     "output_type": "stream",
     "text": [
      "\u001b[1mRows: \u001b[22m\u001b[34m123\u001b[39m \u001b[1mColumns: \u001b[22m\u001b[34m14\u001b[39m\n",
      "\u001b[36m──\u001b[39m \u001b[1mColumn specification\u001b[22m \u001b[36m────────────────────────────────────────────────────────\u001b[39m\n",
      "\u001b[1mDelimiter:\u001b[22m \",\"\n",
      "\u001b[31mchr\u001b[39m (9): X4, X6, X7, X8, X9, X10, X11, X12, X13\n",
      "\u001b[32mdbl\u001b[39m (5): X1, X2, X3, X5, X14\n",
      "\n",
      "\u001b[36mℹ\u001b[39m Use `spec()` to retrieve the full column specification for this data.\n",
      "\u001b[36mℹ\u001b[39m Specify the column types or set `show_col_types = FALSE` to quiet this message.\n"
     ]
    },
    {
     "data": {
      "text/html": [
       "<table class=\"dataframe\">\n",
       "<caption>A tibble: 123 × 14</caption>\n",
       "<thead>\n",
       "\t<tr><th scope=col>age</th><th scope=col>sex</th><th scope=col>cp</th><th scope=col>trestbps</th><th scope=col>chol</th><th scope=col>fbs</th><th scope=col>restecg</th><th scope=col>thalach</th><th scope=col>exang</th><th scope=col>oldpeak</th><th scope=col>slope</th><th scope=col>ca</th><th scope=col>thal</th><th scope=col>diagnosis</th></tr>\n",
       "\t<tr><th scope=col>&lt;dbl&gt;</th><th scope=col>&lt;fct&gt;</th><th scope=col>&lt;fct&gt;</th><th scope=col>&lt;dbl&gt;</th><th scope=col>&lt;dbl&gt;</th><th scope=col>&lt;dbl&gt;</th><th scope=col>&lt;dbl&gt;</th><th scope=col>&lt;dbl&gt;</th><th scope=col>&lt;fct&gt;</th><th scope=col>&lt;dbl&gt;</th><th scope=col>&lt;fct&gt;</th><th scope=col>&lt;dbl&gt;</th><th scope=col>&lt;fct&gt;</th><th scope=col>&lt;fct&gt;</th></tr>\n",
       "</thead>\n",
       "<tbody>\n",
       "\t<tr><td>32</td><td>1</td><td>1</td><td> 95</td><td>0</td><td>NA</td><td> 0</td><td>127</td><td>0</td><td>0.7</td><td>1 </td><td>NA</td><td>NA</td><td>Positive</td></tr>\n",
       "\t<tr><td>34</td><td>1</td><td>4</td><td>115</td><td>0</td><td>NA</td><td>NA</td><td>154</td><td>0</td><td>0.2</td><td>1 </td><td>NA</td><td>NA</td><td>Positive</td></tr>\n",
       "\t<tr><td>35</td><td>1</td><td>4</td><td> NA</td><td>0</td><td>NA</td><td> 0</td><td>130</td><td>1</td><td> NA</td><td>NA</td><td>NA</td><td>7 </td><td>Positive</td></tr>\n",
       "\t<tr><td>⋮</td><td>⋮</td><td>⋮</td><td>⋮</td><td>⋮</td><td>⋮</td><td>⋮</td><td>⋮</td><td>⋮</td><td>⋮</td><td>⋮</td><td>⋮</td><td>⋮</td><td>⋮</td></tr>\n",
       "\t<tr><td>72</td><td>1</td><td>3</td><td>160</td><td>0</td><td>NA</td><td>2</td><td>114</td><td>0</td><td>1.6</td><td>2</td><td> 2</td><td>NA</td><td>Negative</td></tr>\n",
       "\t<tr><td>73</td><td>0</td><td>3</td><td>160</td><td>0</td><td> 0</td><td>1</td><td>121</td><td>0</td><td>0.0</td><td>1</td><td>NA</td><td>3 </td><td>Positive</td></tr>\n",
       "\t<tr><td>74</td><td>1</td><td>2</td><td>145</td><td>0</td><td>NA</td><td>1</td><td>123</td><td>0</td><td>1.3</td><td>1</td><td>NA</td><td>NA</td><td>Positive</td></tr>\n",
       "</tbody>\n",
       "</table>\n"
      ],
      "text/latex": [
       "A tibble: 123 × 14\n",
       "\\begin{tabular}{llllllllllllll}\n",
       " age & sex & cp & trestbps & chol & fbs & restecg & thalach & exang & oldpeak & slope & ca & thal & diagnosis\\\\\n",
       " <dbl> & <fct> & <fct> & <dbl> & <dbl> & <dbl> & <dbl> & <dbl> & <fct> & <dbl> & <fct> & <dbl> & <fct> & <fct>\\\\\n",
       "\\hline\n",
       "\t 32 & 1 & 1 &  95 & 0 & NA &  0 & 127 & 0 & 0.7 & 1  & NA & NA & Positive\\\\\n",
       "\t 34 & 1 & 4 & 115 & 0 & NA & NA & 154 & 0 & 0.2 & 1  & NA & NA & Positive\\\\\n",
       "\t 35 & 1 & 4 &  NA & 0 & NA &  0 & 130 & 1 &  NA & NA & NA & 7  & Positive\\\\\n",
       "\t ⋮ & ⋮ & ⋮ & ⋮ & ⋮ & ⋮ & ⋮ & ⋮ & ⋮ & ⋮ & ⋮ & ⋮ & ⋮ & ⋮\\\\\n",
       "\t 72 & 1 & 3 & 160 & 0 & NA & 2 & 114 & 0 & 1.6 & 2 &  2 & NA & Negative\\\\\n",
       "\t 73 & 0 & 3 & 160 & 0 &  0 & 1 & 121 & 0 & 0.0 & 1 & NA & 3  & Positive\\\\\n",
       "\t 74 & 1 & 2 & 145 & 0 & NA & 1 & 123 & 0 & 1.3 & 1 & NA & NA & Positive\\\\\n",
       "\\end{tabular}\n"
      ],
      "text/markdown": [
       "\n",
       "A tibble: 123 × 14\n",
       "\n",
       "| age &lt;dbl&gt; | sex &lt;fct&gt; | cp &lt;fct&gt; | trestbps &lt;dbl&gt; | chol &lt;dbl&gt; | fbs &lt;dbl&gt; | restecg &lt;dbl&gt; | thalach &lt;dbl&gt; | exang &lt;fct&gt; | oldpeak &lt;dbl&gt; | slope &lt;fct&gt; | ca &lt;dbl&gt; | thal &lt;fct&gt; | diagnosis &lt;fct&gt; |\n",
       "|---|---|---|---|---|---|---|---|---|---|---|---|---|---|\n",
       "| 32 | 1 | 1 |  95 | 0 | NA |  0 | 127 | 0 | 0.7 | 1  | NA | NA | Positive |\n",
       "| 34 | 1 | 4 | 115 | 0 | NA | NA | 154 | 0 | 0.2 | 1  | NA | NA | Positive |\n",
       "| 35 | 1 | 4 |  NA | 0 | NA |  0 | 130 | 1 |  NA | NA | NA | 7  | Positive |\n",
       "| ⋮ | ⋮ | ⋮ | ⋮ | ⋮ | ⋮ | ⋮ | ⋮ | ⋮ | ⋮ | ⋮ | ⋮ | ⋮ | ⋮ |\n",
       "| 72 | 1 | 3 | 160 | 0 | NA | 2 | 114 | 0 | 1.6 | 2 |  2 | NA | Negative |\n",
       "| 73 | 0 | 3 | 160 | 0 |  0 | 1 | 121 | 0 | 0.0 | 1 | NA | 3  | Positive |\n",
       "| 74 | 1 | 2 | 145 | 0 | NA | 1 | 123 | 0 | 1.3 | 1 | NA | NA | Positive |\n",
       "\n"
      ],
      "text/plain": [
       "    age sex cp trestbps chol fbs restecg thalach exang oldpeak slope ca thal\n",
       "1   32  1   1   95      0    NA   0      127     0     0.7     1     NA NA  \n",
       "2   34  1   4  115      0    NA  NA      154     0     0.2     1     NA NA  \n",
       "3   35  1   4   NA      0    NA   0      130     1      NA     NA    NA 7   \n",
       "⋮   ⋮   ⋮   ⋮  ⋮        ⋮    ⋮   ⋮       ⋮       ⋮     ⋮       ⋮     ⋮  ⋮   \n",
       "121 72  1   3  160      0    NA  2       114     0     1.6     2      2 NA  \n",
       "122 73  0   3  160      0     0  1       121     0     0.0     1     NA 3   \n",
       "123 74  1   2  145      0    NA  1       123     0     1.3     1     NA NA  \n",
       "    diagnosis\n",
       "1   Positive \n",
       "2   Positive \n",
       "3   Positive \n",
       "⋮   ⋮        \n",
       "121 Negative \n",
       "122 Positive \n",
       "123 Positive "
      ]
     },
     "metadata": {},
     "output_type": "display_data"
    },
    {
     "data": {
      "text/html": [
       "<table class=\"dataframe\">\n",
       "<caption>A tibble: 92 × 14</caption>\n",
       "<thead>\n",
       "\t<tr><th scope=col>age</th><th scope=col>sex</th><th scope=col>cp</th><th scope=col>trestbps</th><th scope=col>chol</th><th scope=col>fbs</th><th scope=col>restecg</th><th scope=col>thalach</th><th scope=col>exang</th><th scope=col>oldpeak</th><th scope=col>slope</th><th scope=col>ca</th><th scope=col>thal</th><th scope=col>diagnosis</th></tr>\n",
       "\t<tr><th scope=col>&lt;dbl&gt;</th><th scope=col>&lt;fct&gt;</th><th scope=col>&lt;fct&gt;</th><th scope=col>&lt;dbl&gt;</th><th scope=col>&lt;dbl&gt;</th><th scope=col>&lt;dbl&gt;</th><th scope=col>&lt;dbl&gt;</th><th scope=col>&lt;dbl&gt;</th><th scope=col>&lt;fct&gt;</th><th scope=col>&lt;dbl&gt;</th><th scope=col>&lt;fct&gt;</th><th scope=col>&lt;dbl&gt;</th><th scope=col>&lt;fct&gt;</th><th scope=col>&lt;fct&gt;</th></tr>\n",
       "</thead>\n",
       "<tbody>\n",
       "\t<tr><td>32</td><td>1</td><td>1</td><td> 95</td><td>0</td><td>NA</td><td> 0</td><td>127</td><td>0</td><td>0.7</td><td>1 </td><td>NA</td><td>NA</td><td>Positive</td></tr>\n",
       "\t<tr><td>34</td><td>1</td><td>4</td><td>115</td><td>0</td><td>NA</td><td>NA</td><td>154</td><td>0</td><td>0.2</td><td>1 </td><td>NA</td><td>NA</td><td>Positive</td></tr>\n",
       "\t<tr><td>35</td><td>1</td><td>4</td><td> NA</td><td>0</td><td>NA</td><td> 0</td><td>130</td><td>1</td><td> NA</td><td>NA</td><td>NA</td><td>7 </td><td>Positive</td></tr>\n",
       "\t<tr><td>⋮</td><td>⋮</td><td>⋮</td><td>⋮</td><td>⋮</td><td>⋮</td><td>⋮</td><td>⋮</td><td>⋮</td><td>⋮</td><td>⋮</td><td>⋮</td><td>⋮</td><td>⋮</td></tr>\n",
       "\t<tr><td>70</td><td>1</td><td>4</td><td>140</td><td>0</td><td> 1</td><td>0</td><td>157</td><td>1</td><td>2.0</td><td>2</td><td>NA</td><td>7 </td><td>Positive</td></tr>\n",
       "\t<tr><td>73</td><td>0</td><td>3</td><td>160</td><td>0</td><td> 0</td><td>1</td><td>121</td><td>0</td><td>0.0</td><td>1</td><td>NA</td><td>3 </td><td>Positive</td></tr>\n",
       "\t<tr><td>74</td><td>1</td><td>2</td><td>145</td><td>0</td><td>NA</td><td>1</td><td>123</td><td>0</td><td>1.3</td><td>1</td><td>NA</td><td>NA</td><td>Positive</td></tr>\n",
       "</tbody>\n",
       "</table>\n"
      ],
      "text/latex": [
       "A tibble: 92 × 14\n",
       "\\begin{tabular}{llllllllllllll}\n",
       " age & sex & cp & trestbps & chol & fbs & restecg & thalach & exang & oldpeak & slope & ca & thal & diagnosis\\\\\n",
       " <dbl> & <fct> & <fct> & <dbl> & <dbl> & <dbl> & <dbl> & <dbl> & <fct> & <dbl> & <fct> & <dbl> & <fct> & <fct>\\\\\n",
       "\\hline\n",
       "\t 32 & 1 & 1 &  95 & 0 & NA &  0 & 127 & 0 & 0.7 & 1  & NA & NA & Positive\\\\\n",
       "\t 34 & 1 & 4 & 115 & 0 & NA & NA & 154 & 0 & 0.2 & 1  & NA & NA & Positive\\\\\n",
       "\t 35 & 1 & 4 &  NA & 0 & NA &  0 & 130 & 1 &  NA & NA & NA & 7  & Positive\\\\\n",
       "\t ⋮ & ⋮ & ⋮ & ⋮ & ⋮ & ⋮ & ⋮ & ⋮ & ⋮ & ⋮ & ⋮ & ⋮ & ⋮ & ⋮\\\\\n",
       "\t 70 & 1 & 4 & 140 & 0 &  1 & 0 & 157 & 1 & 2.0 & 2 & NA & 7  & Positive\\\\\n",
       "\t 73 & 0 & 3 & 160 & 0 &  0 & 1 & 121 & 0 & 0.0 & 1 & NA & 3  & Positive\\\\\n",
       "\t 74 & 1 & 2 & 145 & 0 & NA & 1 & 123 & 0 & 1.3 & 1 & NA & NA & Positive\\\\\n",
       "\\end{tabular}\n"
      ],
      "text/markdown": [
       "\n",
       "A tibble: 92 × 14\n",
       "\n",
       "| age &lt;dbl&gt; | sex &lt;fct&gt; | cp &lt;fct&gt; | trestbps &lt;dbl&gt; | chol &lt;dbl&gt; | fbs &lt;dbl&gt; | restecg &lt;dbl&gt; | thalach &lt;dbl&gt; | exang &lt;fct&gt; | oldpeak &lt;dbl&gt; | slope &lt;fct&gt; | ca &lt;dbl&gt; | thal &lt;fct&gt; | diagnosis &lt;fct&gt; |\n",
       "|---|---|---|---|---|---|---|---|---|---|---|---|---|---|\n",
       "| 32 | 1 | 1 |  95 | 0 | NA |  0 | 127 | 0 | 0.7 | 1  | NA | NA | Positive |\n",
       "| 34 | 1 | 4 | 115 | 0 | NA | NA | 154 | 0 | 0.2 | 1  | NA | NA | Positive |\n",
       "| 35 | 1 | 4 |  NA | 0 | NA |  0 | 130 | 1 |  NA | NA | NA | 7  | Positive |\n",
       "| ⋮ | ⋮ | ⋮ | ⋮ | ⋮ | ⋮ | ⋮ | ⋮ | ⋮ | ⋮ | ⋮ | ⋮ | ⋮ | ⋮ |\n",
       "| 70 | 1 | 4 | 140 | 0 |  1 | 0 | 157 | 1 | 2.0 | 2 | NA | 7  | Positive |\n",
       "| 73 | 0 | 3 | 160 | 0 |  0 | 1 | 121 | 0 | 0.0 | 1 | NA | 3  | Positive |\n",
       "| 74 | 1 | 2 | 145 | 0 | NA | 1 | 123 | 0 | 1.3 | 1 | NA | NA | Positive |\n",
       "\n"
      ],
      "text/plain": [
       "   age sex cp trestbps chol fbs restecg thalach exang oldpeak slope ca thal\n",
       "1  32  1   1   95      0    NA   0      127     0     0.7     1     NA NA  \n",
       "2  34  1   4  115      0    NA  NA      154     0     0.2     1     NA NA  \n",
       "3  35  1   4   NA      0    NA   0      130     1      NA     NA    NA 7   \n",
       "⋮  ⋮   ⋮   ⋮  ⋮        ⋮    ⋮   ⋮       ⋮       ⋮     ⋮       ⋮     ⋮  ⋮   \n",
       "90 70  1   4  140      0     1  0       157     1     2.0     2     NA 7   \n",
       "91 73  0   3  160      0     0  1       121     0     0.0     1     NA 3   \n",
       "92 74  1   2  145      0    NA  1       123     0     1.3     1     NA NA  \n",
       "   diagnosis\n",
       "1  Positive \n",
       "2  Positive \n",
       "3  Positive \n",
       "⋮  ⋮        \n",
       "90 Positive \n",
       "91 Positive \n",
       "92 Positive "
      ]
     },
     "metadata": {},
     "output_type": "display_data"
    },
    {
     "data": {
      "text/html": [
       "<table class=\"dataframe\">\n",
       "<caption>A matrix: 5 × 14 of type int</caption>\n",
       "<thead>\n",
       "\t<tr><th></th><th scope=col>age</th><th scope=col>sex</th><th scope=col>cp</th><th scope=col>trestbps</th><th scope=col>chol</th><th scope=col>fbs</th><th scope=col>restecg</th><th scope=col>thalach</th><th scope=col>exang</th><th scope=col>oldpeak</th><th scope=col>slope</th><th scope=col>ca</th><th scope=col>thal</th><th scope=col>diagnosis</th></tr>\n",
       "</thead>\n",
       "<tbody>\n",
       "\t<tr><th scope=row>mean</th><td> 1</td><td> 2</td><td> 3</td><td> 4</td><td> 5</td><td> 6</td><td> 7</td><td> 8</td><td> 9</td><td>10</td><td>11</td><td>12</td><td>13</td><td>14</td></tr>\n",
       "\t<tr><th scope=row>sd</th><td>15</td><td>16</td><td>17</td><td>18</td><td>19</td><td>20</td><td>21</td><td>22</td><td>23</td><td>24</td><td>25</td><td>26</td><td>27</td><td>28</td></tr>\n",
       "\t<tr><th scope=row>observations</th><td>29</td><td>30</td><td>31</td><td>32</td><td>33</td><td>34</td><td>35</td><td>36</td><td>37</td><td>38</td><td>39</td><td>40</td><td>41</td><td>42</td></tr>\n",
       "\t<tr><th scope=row>min</th><td>43</td><td>44</td><td>45</td><td>46</td><td>47</td><td>48</td><td>49</td><td>50</td><td>51</td><td>52</td><td>53</td><td>54</td><td>55</td><td>56</td></tr>\n",
       "\t<tr><th scope=row>max</th><td>57</td><td>58</td><td>59</td><td>60</td><td>61</td><td>62</td><td>63</td><td>64</td><td>65</td><td>66</td><td>67</td><td>68</td><td>69</td><td>70</td></tr>\n",
       "</tbody>\n",
       "</table>\n"
      ],
      "text/latex": [
       "A matrix: 5 × 14 of type int\n",
       "\\begin{tabular}{r|llllllllllllll}\n",
       "  & age & sex & cp & trestbps & chol & fbs & restecg & thalach & exang & oldpeak & slope & ca & thal & diagnosis\\\\\n",
       "\\hline\n",
       "\tmean &  1 &  2 &  3 &  4 &  5 &  6 &  7 &  8 &  9 & 10 & 11 & 12 & 13 & 14\\\\\n",
       "\tsd & 15 & 16 & 17 & 18 & 19 & 20 & 21 & 22 & 23 & 24 & 25 & 26 & 27 & 28\\\\\n",
       "\tobservations & 29 & 30 & 31 & 32 & 33 & 34 & 35 & 36 & 37 & 38 & 39 & 40 & 41 & 42\\\\\n",
       "\tmin & 43 & 44 & 45 & 46 & 47 & 48 & 49 & 50 & 51 & 52 & 53 & 54 & 55 & 56\\\\\n",
       "\tmax & 57 & 58 & 59 & 60 & 61 & 62 & 63 & 64 & 65 & 66 & 67 & 68 & 69 & 70\\\\\n",
       "\\end{tabular}\n"
      ],
      "text/markdown": [
       "\n",
       "A matrix: 5 × 14 of type int\n",
       "\n",
       "| <!--/--> | age | sex | cp | trestbps | chol | fbs | restecg | thalach | exang | oldpeak | slope | ca | thal | diagnosis |\n",
       "|---|---|---|---|---|---|---|---|---|---|---|---|---|---|---|\n",
       "| mean |  1 |  2 |  3 |  4 |  5 |  6 |  7 |  8 |  9 | 10 | 11 | 12 | 13 | 14 |\n",
       "| sd | 15 | 16 | 17 | 18 | 19 | 20 | 21 | 22 | 23 | 24 | 25 | 26 | 27 | 28 |\n",
       "| observations | 29 | 30 | 31 | 32 | 33 | 34 | 35 | 36 | 37 | 38 | 39 | 40 | 41 | 42 |\n",
       "| min | 43 | 44 | 45 | 46 | 47 | 48 | 49 | 50 | 51 | 52 | 53 | 54 | 55 | 56 |\n",
       "| max | 57 | 58 | 59 | 60 | 61 | 62 | 63 | 64 | 65 | 66 | 67 | 68 | 69 | 70 |\n",
       "\n"
      ],
      "text/plain": [
       "             age sex cp trestbps chol fbs restecg thalach exang oldpeak slope\n",
       "mean          1   2   3  4        5    6   7       8       9    10      11   \n",
       "sd           15  16  17 18       19   20  21      22      23    24      25   \n",
       "observations 29  30  31 32       33   34  35      36      37    38      39   \n",
       "min          43  44  45 46       47   48  49      50      51    52      53   \n",
       "max          57  58  59 60       61   62  63      64      65    66      67   \n",
       "             ca thal diagnosis\n",
       "mean         12 13   14       \n",
       "sd           26 27   28       \n",
       "observations 40 41   42       \n",
       "min          54 55   56       \n",
       "max          68 69   70       "
      ]
     },
     "metadata": {},
     "output_type": "display_data"
    }
   ],
   "source": [
    "set.seed(293)\n",
    "\n",
    "dataset_test <- download.file(\n",
    "    \"https://archive.ics.uci.edu/ml/machine-learning-databases/heart-disease/processed.switzerland.data\", \n",
    "    \"heart_disease.csv\")\n",
    "\n",
    "heart_data <- read_csv(\"heart_disease.csv\", col_names = FALSE)\n",
    "\n",
    "\n",
    "heart_data <- rename(heart_data, \n",
    "                     age =X1,\n",
    "                     sex =X2,\n",
    "                     cp =X3,\n",
    "                     trestbps =X4,\n",
    "                     chol = X5,\n",
    "                     fbs =X6,\n",
    "                     restecg=X7,\n",
    "                     thalach=X8,\n",
    "                     exang=X9,\n",
    "                     oldpeak=X10,\n",
    "                     slope=X11,\n",
    "                     ca=X12,\n",
    "                     thal=X13,\n",
    "                     diagnosis=X14)\n",
    "\n",
    "idx <- heart_data == \"?\"\n",
    "is.na(heart_data) <- idx                                 #eliminates ? and replaces with NA\n",
    "\n",
    "heart_data[] <- sapply(heart_data, as.numeric) #converts all the data to numeric\n",
    "\n",
    "names = c('sex', 'cp', 'exang', 'slope', 'thal', 'diagnosis') #unsure if ca is a factor\n",
    "heart_data[,names] <- lapply(heart_data[,names] , factor)\n",
    "\n",
    "heart_data <- mutate(heart_data, diagnosis = ifelse(diagnosis == \"1\"|diagnosis == \"2\"|diagnosis == \"3\"|diagnosis == \"4\", \"Positive\", \"Negative\"))\n",
    "heart_data <- mutate(heart_data, diagnosis = as.factor(diagnosis))          #changes the diagnosis values to strings\n",
    "\n",
    "heart_data\n",
    "\n",
    "\n",
    "\n",
    "heart_split <- initial_split(heart_data, prop = 0.75, strata = diagnosis)          #splits data\n",
    "heart_train <- training(heart_split)\n",
    "heart_test <- testing(heart_split) \n",
    "\n",
    "heart_train\n",
    "\n",
    "\n",
    "heart_table = matrix(c(1:70), ncol = 14, byrow=TRUE)\n",
    "colnames(heart_table) = c(\"age\",\"sex\", \"cp\", \"trestbps\", \"chol\", \"fbs\", \"restecg\", \"thalach\", \n",
    "                          \"exang\", \"oldpeak\", \"slope\", \"ca\", \"thal\", \"diagnosis\")\n",
    "rownames(heart_table) <- c(\"mean\", \"sd\", \"observations\", \"min\", \"max\")\n",
    "\n",
    "heart_table\n"
   ]
  },
  {
   "cell_type": "code",
   "execution_count": null,
   "id": "4d566cab-25f5-4fa2-8f5c-0cb469682d15",
   "metadata": {},
   "outputs": [],
   "source": []
  },
  {
   "cell_type": "code",
   "execution_count": null,
   "id": "1e38d4d6-856e-43f5-a708-df6bca70b285",
   "metadata": {},
   "outputs": [],
   "source": []
  }
 ],
 "metadata": {
  "kernelspec": {
   "display_name": "R",
   "language": "R",
   "name": "ir"
  },
  "language_info": {
   "codemirror_mode": "r",
   "file_extension": ".r",
   "mimetype": "text/x-r-source",
   "name": "R",
   "pygments_lexer": "r",
   "version": "4.1.3"
  }
 },
 "nbformat": 4,
 "nbformat_minor": 5
}
