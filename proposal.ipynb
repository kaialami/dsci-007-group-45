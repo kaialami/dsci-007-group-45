{
 "cells": [
  {
   "cell_type": "markdown",
   "id": "0837b949-1f97-418f-b43a-6c7a15668363",
   "metadata": {},
   "source": [
    "## Group proposal\n",
    "Title: Heart Disease Diagnostic Tool"
   ]
  },
  {
   "cell_type": "code",
   "execution_count": 5,
   "id": "d388ca57-44dd-41aa-9eb6-17a4bde105f6",
   "metadata": {},
   "outputs": [],
   "source": [
    "library(rvest)\n",
    "library(tidyverse)\n",
    "library(repr)\n",
    "library(tidymodels)\n",
    "options(repr.matrix.max.rows = 6)"
   ]
  },
  {
   "cell_type": "markdown",
   "id": "6de03826-18f9-4f1a-8867-4bf126d800c9",
   "metadata": {},
   "source": [
    "Introduction: "
   ]
  },
  {
   "cell_type": "code",
   "execution_count": 18,
   "id": "c4cb2088-3cc3-4065-ab13-81013d9aad3d",
   "metadata": {},
   "outputs": [
    {
     "name": "stderr",
     "output_type": "stream",
     "text": [
      "\u001b[1mRows: \u001b[22m\u001b[34m123\u001b[39m \u001b[1mColumns: \u001b[22m\u001b[34m14\u001b[39m\n",
      "\u001b[36m──\u001b[39m \u001b[1mColumn specification\u001b[22m \u001b[36m────────────────────────────────────────────────────────\u001b[39m\n",
      "\u001b[1mDelimiter:\u001b[22m \",\"\n",
      "\u001b[31mchr\u001b[39m (9): X4, X6, X7, X8, X9, X10, X11, X12, X13\n",
      "\u001b[32mdbl\u001b[39m (5): X1, X2, X3, X5, X14\n",
      "\n",
      "\u001b[36mℹ\u001b[39m Use `spec()` to retrieve the full column specification for this data.\n",
      "\u001b[36mℹ\u001b[39m Specify the column types or set `show_col_types = FALSE` to quiet this message.\n"
     ]
    },
    {
     "data": {
      "text/html": [
       "<table class=\"dataframe\">\n",
       "<caption>A spec_tbl_df: 123 × 14</caption>\n",
       "<thead>\n",
       "\t<tr><th scope=col>age</th><th scope=col>sex</th><th scope=col>cp</th><th scope=col>trestbps</th><th scope=col>chol</th><th scope=col>fbs</th><th scope=col>restecg</th><th scope=col>thalach</th><th scope=col>exang</th><th scope=col>oldpeak</th><th scope=col>slope</th><th scope=col>ca</th><th scope=col>thal</th><th scope=col>num</th></tr>\n",
       "\t<tr><th scope=col>&lt;dbl&gt;</th><th scope=col>&lt;fct&gt;</th><th scope=col>&lt;fct&gt;</th><th scope=col>&lt;dbl&gt;</th><th scope=col>&lt;dbl&gt;</th><th scope=col>&lt;dbl&gt;</th><th scope=col>&lt;dbl&gt;</th><th scope=col>&lt;dbl&gt;</th><th scope=col>&lt;fct&gt;</th><th scope=col>&lt;dbl&gt;</th><th scope=col>&lt;fct&gt;</th><th scope=col>&lt;dbl&gt;</th><th scope=col>&lt;fct&gt;</th><th scope=col>&lt;fct&gt;</th></tr>\n",
       "</thead>\n",
       "<tbody>\n",
       "\t<tr><td>32</td><td>1</td><td>1</td><td> 95</td><td>0</td><td>NA</td><td> 0</td><td>127</td><td>0</td><td>0.7</td><td>1 </td><td>NA</td><td>NA</td><td>1</td></tr>\n",
       "\t<tr><td>34</td><td>1</td><td>4</td><td>115</td><td>0</td><td>NA</td><td>NA</td><td>154</td><td>0</td><td>0.2</td><td>1 </td><td>NA</td><td>NA</td><td>1</td></tr>\n",
       "\t<tr><td>35</td><td>1</td><td>4</td><td> NA</td><td>0</td><td>NA</td><td> 0</td><td>130</td><td>1</td><td> NA</td><td>NA</td><td>NA</td><td>7 </td><td>3</td></tr>\n",
       "\t<tr><td>⋮</td><td>⋮</td><td>⋮</td><td>⋮</td><td>⋮</td><td>⋮</td><td>⋮</td><td>⋮</td><td>⋮</td><td>⋮</td><td>⋮</td><td>⋮</td><td>⋮</td><td>⋮</td></tr>\n",
       "\t<tr><td>72</td><td>1</td><td>3</td><td>160</td><td>0</td><td>NA</td><td>2</td><td>114</td><td>0</td><td>1.6</td><td>2</td><td> 2</td><td>NA</td><td>0</td></tr>\n",
       "\t<tr><td>73</td><td>0</td><td>3</td><td>160</td><td>0</td><td> 0</td><td>1</td><td>121</td><td>0</td><td>0.0</td><td>1</td><td>NA</td><td>3 </td><td>1</td></tr>\n",
       "\t<tr><td>74</td><td>1</td><td>2</td><td>145</td><td>0</td><td>NA</td><td>1</td><td>123</td><td>0</td><td>1.3</td><td>1</td><td>NA</td><td>NA</td><td>1</td></tr>\n",
       "</tbody>\n",
       "</table>\n"
      ],
      "text/latex": [
       "A spec\\_tbl\\_df: 123 × 14\n",
       "\\begin{tabular}{llllllllllllll}\n",
       " age & sex & cp & trestbps & chol & fbs & restecg & thalach & exang & oldpeak & slope & ca & thal & num\\\\\n",
       " <dbl> & <fct> & <fct> & <dbl> & <dbl> & <dbl> & <dbl> & <dbl> & <fct> & <dbl> & <fct> & <dbl> & <fct> & <fct>\\\\\n",
       "\\hline\n",
       "\t 32 & 1 & 1 &  95 & 0 & NA &  0 & 127 & 0 & 0.7 & 1  & NA & NA & 1\\\\\n",
       "\t 34 & 1 & 4 & 115 & 0 & NA & NA & 154 & 0 & 0.2 & 1  & NA & NA & 1\\\\\n",
       "\t 35 & 1 & 4 &  NA & 0 & NA &  0 & 130 & 1 &  NA & NA & NA & 7  & 3\\\\\n",
       "\t ⋮ & ⋮ & ⋮ & ⋮ & ⋮ & ⋮ & ⋮ & ⋮ & ⋮ & ⋮ & ⋮ & ⋮ & ⋮ & ⋮\\\\\n",
       "\t 72 & 1 & 3 & 160 & 0 & NA & 2 & 114 & 0 & 1.6 & 2 &  2 & NA & 0\\\\\n",
       "\t 73 & 0 & 3 & 160 & 0 &  0 & 1 & 121 & 0 & 0.0 & 1 & NA & 3  & 1\\\\\n",
       "\t 74 & 1 & 2 & 145 & 0 & NA & 1 & 123 & 0 & 1.3 & 1 & NA & NA & 1\\\\\n",
       "\\end{tabular}\n"
      ],
      "text/markdown": [
       "\n",
       "A spec_tbl_df: 123 × 14\n",
       "\n",
       "| age &lt;dbl&gt; | sex &lt;fct&gt; | cp &lt;fct&gt; | trestbps &lt;dbl&gt; | chol &lt;dbl&gt; | fbs &lt;dbl&gt; | restecg &lt;dbl&gt; | thalach &lt;dbl&gt; | exang &lt;fct&gt; | oldpeak &lt;dbl&gt; | slope &lt;fct&gt; | ca &lt;dbl&gt; | thal &lt;fct&gt; | num &lt;fct&gt; |\n",
       "|---|---|---|---|---|---|---|---|---|---|---|---|---|---|\n",
       "| 32 | 1 | 1 |  95 | 0 | NA |  0 | 127 | 0 | 0.7 | 1  | NA | NA | 1 |\n",
       "| 34 | 1 | 4 | 115 | 0 | NA | NA | 154 | 0 | 0.2 | 1  | NA | NA | 1 |\n",
       "| 35 | 1 | 4 |  NA | 0 | NA |  0 | 130 | 1 |  NA | NA | NA | 7  | 3 |\n",
       "| ⋮ | ⋮ | ⋮ | ⋮ | ⋮ | ⋮ | ⋮ | ⋮ | ⋮ | ⋮ | ⋮ | ⋮ | ⋮ | ⋮ |\n",
       "| 72 | 1 | 3 | 160 | 0 | NA | 2 | 114 | 0 | 1.6 | 2 |  2 | NA | 0 |\n",
       "| 73 | 0 | 3 | 160 | 0 |  0 | 1 | 121 | 0 | 0.0 | 1 | NA | 3  | 1 |\n",
       "| 74 | 1 | 2 | 145 | 0 | NA | 1 | 123 | 0 | 1.3 | 1 | NA | NA | 1 |\n",
       "\n"
      ],
      "text/plain": [
       "    age sex cp trestbps chol fbs restecg thalach exang oldpeak slope ca thal\n",
       "1   32  1   1   95      0    NA   0      127     0     0.7     1     NA NA  \n",
       "2   34  1   4  115      0    NA  NA      154     0     0.2     1     NA NA  \n",
       "3   35  1   4   NA      0    NA   0      130     1      NA     NA    NA 7   \n",
       "⋮   ⋮   ⋮   ⋮  ⋮        ⋮    ⋮   ⋮       ⋮       ⋮     ⋮       ⋮     ⋮  ⋮   \n",
       "121 72  1   3  160      0    NA  2       114     0     1.6     2      2 NA  \n",
       "122 73  0   3  160      0     0  1       121     0     0.0     1     NA 3   \n",
       "123 74  1   2  145      0    NA  1       123     0     1.3     1     NA NA  \n",
       "    num\n",
       "1   1  \n",
       "2   1  \n",
       "3   3  \n",
       "⋮   ⋮  \n",
       "121 0  \n",
       "122 1  \n",
       "123 1  "
      ]
     },
     "metadata": {},
     "output_type": "display_data"
    },
    {
     "data": {
      "text/html": [
       "<table class=\"dataframe\">\n",
       "<caption>A tibble: 91 × 14</caption>\n",
       "<thead>\n",
       "\t<tr><th scope=col>age</th><th scope=col>sex</th><th scope=col>cp</th><th scope=col>trestbps</th><th scope=col>chol</th><th scope=col>fbs</th><th scope=col>restecg</th><th scope=col>thalach</th><th scope=col>exang</th><th scope=col>oldpeak</th><th scope=col>slope</th><th scope=col>ca</th><th scope=col>thal</th><th scope=col>num</th></tr>\n",
       "\t<tr><th scope=col>&lt;dbl&gt;</th><th scope=col>&lt;fct&gt;</th><th scope=col>&lt;fct&gt;</th><th scope=col>&lt;dbl&gt;</th><th scope=col>&lt;dbl&gt;</th><th scope=col>&lt;dbl&gt;</th><th scope=col>&lt;dbl&gt;</th><th scope=col>&lt;dbl&gt;</th><th scope=col>&lt;fct&gt;</th><th scope=col>&lt;dbl&gt;</th><th scope=col>&lt;fct&gt;</th><th scope=col>&lt;dbl&gt;</th><th scope=col>&lt;fct&gt;</th><th scope=col>&lt;fct&gt;</th></tr>\n",
       "</thead>\n",
       "<tbody>\n",
       "\t<tr><td>32</td><td>1</td><td>1</td><td> 95</td><td>0</td><td>NA</td><td> 0</td><td>127</td><td>0</td><td>0.7</td><td>1</td><td>NA</td><td>NA</td><td>1</td></tr>\n",
       "\t<tr><td>34</td><td>1</td><td>4</td><td>115</td><td>0</td><td>NA</td><td>NA</td><td>154</td><td>0</td><td>0.2</td><td>1</td><td>NA</td><td>NA</td><td>1</td></tr>\n",
       "\t<tr><td>36</td><td>1</td><td>4</td><td>110</td><td>0</td><td>NA</td><td> 0</td><td>125</td><td>1</td><td>1.0</td><td>2</td><td>NA</td><td>6 </td><td>1</td></tr>\n",
       "\t<tr><td>⋮</td><td>⋮</td><td>⋮</td><td>⋮</td><td>⋮</td><td>⋮</td><td>⋮</td><td>⋮</td><td>⋮</td><td>⋮</td><td>⋮</td><td>⋮</td><td>⋮</td><td>⋮</td></tr>\n",
       "\t<tr><td>68</td><td>1</td><td>4</td><td>135</td><td>0</td><td>0</td><td>1</td><td>120</td><td>1 </td><td> 0</td><td>1 </td><td>NA</td><td>7</td><td>3</td></tr>\n",
       "\t<tr><td>69</td><td>1</td><td>4</td><td> NA</td><td>0</td><td>0</td><td>1</td><td> NA</td><td>NA</td><td>NA</td><td>NA</td><td>NA</td><td>7</td><td>3</td></tr>\n",
       "\t<tr><td>70</td><td>1</td><td>4</td><td>140</td><td>0</td><td>1</td><td>0</td><td>157</td><td>1 </td><td> 2</td><td>2 </td><td>NA</td><td>7</td><td>3</td></tr>\n",
       "</tbody>\n",
       "</table>\n"
      ],
      "text/latex": [
       "A tibble: 91 × 14\n",
       "\\begin{tabular}{llllllllllllll}\n",
       " age & sex & cp & trestbps & chol & fbs & restecg & thalach & exang & oldpeak & slope & ca & thal & num\\\\\n",
       " <dbl> & <fct> & <fct> & <dbl> & <dbl> & <dbl> & <dbl> & <dbl> & <fct> & <dbl> & <fct> & <dbl> & <fct> & <fct>\\\\\n",
       "\\hline\n",
       "\t 32 & 1 & 1 &  95 & 0 & NA &  0 & 127 & 0 & 0.7 & 1 & NA & NA & 1\\\\\n",
       "\t 34 & 1 & 4 & 115 & 0 & NA & NA & 154 & 0 & 0.2 & 1 & NA & NA & 1\\\\\n",
       "\t 36 & 1 & 4 & 110 & 0 & NA &  0 & 125 & 1 & 1.0 & 2 & NA & 6  & 1\\\\\n",
       "\t ⋮ & ⋮ & ⋮ & ⋮ & ⋮ & ⋮ & ⋮ & ⋮ & ⋮ & ⋮ & ⋮ & ⋮ & ⋮ & ⋮\\\\\n",
       "\t 68 & 1 & 4 & 135 & 0 & 0 & 1 & 120 & 1  &  0 & 1  & NA & 7 & 3\\\\\n",
       "\t 69 & 1 & 4 &  NA & 0 & 0 & 1 &  NA & NA & NA & NA & NA & 7 & 3\\\\\n",
       "\t 70 & 1 & 4 & 140 & 0 & 1 & 0 & 157 & 1  &  2 & 2  & NA & 7 & 3\\\\\n",
       "\\end{tabular}\n"
      ],
      "text/markdown": [
       "\n",
       "A tibble: 91 × 14\n",
       "\n",
       "| age &lt;dbl&gt; | sex &lt;fct&gt; | cp &lt;fct&gt; | trestbps &lt;dbl&gt; | chol &lt;dbl&gt; | fbs &lt;dbl&gt; | restecg &lt;dbl&gt; | thalach &lt;dbl&gt; | exang &lt;fct&gt; | oldpeak &lt;dbl&gt; | slope &lt;fct&gt; | ca &lt;dbl&gt; | thal &lt;fct&gt; | num &lt;fct&gt; |\n",
       "|---|---|---|---|---|---|---|---|---|---|---|---|---|---|\n",
       "| 32 | 1 | 1 |  95 | 0 | NA |  0 | 127 | 0 | 0.7 | 1 | NA | NA | 1 |\n",
       "| 34 | 1 | 4 | 115 | 0 | NA | NA | 154 | 0 | 0.2 | 1 | NA | NA | 1 |\n",
       "| 36 | 1 | 4 | 110 | 0 | NA |  0 | 125 | 1 | 1.0 | 2 | NA | 6  | 1 |\n",
       "| ⋮ | ⋮ | ⋮ | ⋮ | ⋮ | ⋮ | ⋮ | ⋮ | ⋮ | ⋮ | ⋮ | ⋮ | ⋮ | ⋮ |\n",
       "| 68 | 1 | 4 | 135 | 0 | 0 | 1 | 120 | 1  |  0 | 1  | NA | 7 | 3 |\n",
       "| 69 | 1 | 4 |  NA | 0 | 0 | 1 |  NA | NA | NA | NA | NA | 7 | 3 |\n",
       "| 70 | 1 | 4 | 140 | 0 | 1 | 0 | 157 | 1  |  2 | 2  | NA | 7 | 3 |\n",
       "\n"
      ],
      "text/plain": [
       "   age sex cp trestbps chol fbs restecg thalach exang oldpeak slope ca thal num\n",
       "1  32  1   1   95      0    NA   0      127     0     0.7     1     NA NA   1  \n",
       "2  34  1   4  115      0    NA  NA      154     0     0.2     1     NA NA   1  \n",
       "3  36  1   4  110      0    NA   0      125     1     1.0     2     NA 6    1  \n",
       "⋮  ⋮   ⋮   ⋮  ⋮        ⋮    ⋮   ⋮       ⋮       ⋮     ⋮       ⋮     ⋮  ⋮    ⋮  \n",
       "89 68  1   4  135      0    0   1       120     1      0      1     NA 7    3  \n",
       "90 69  1   4   NA      0    0   1        NA     NA    NA      NA    NA 7    3  \n",
       "91 70  1   4  140      0    1   0       157     1      2      2     NA 7    3  "
      ]
     },
     "metadata": {},
     "output_type": "display_data"
    }
   ],
   "source": [
    "set.seed(293)\n",
    "\n",
    "dataset_test <- download.file(\n",
    "    \"https://archive.ics.uci.edu/ml/machine-learning-databases/heart-disease/processed.switzerland.data\", \n",
    "    \"heart_disease.csv\")\n",
    "\n",
    "heart_data <- read_csv(\"heart_disease.csv\", col_names = FALSE)\n",
    "\n",
    "\n",
    "heart_data <- rename(heart_data, \n",
    "                     age =X1,\n",
    "                     sex =X2,\n",
    "                     cp =X3,\n",
    "                     trestbps =X4,\n",
    "                     chol = X5,\n",
    "                     fbs =X6,\n",
    "                     restecg=X7,\n",
    "                     thalach=X8,\n",
    "                     exang=X9,\n",
    "                     oldpeak=X10,\n",
    "                     slope=X11,\n",
    "                     ca=X12,\n",
    "                     thal=X13,\n",
    "                     num=X14)\n",
    "\n",
    "idx <- heart_data == \"?\"\n",
    "is.na(heart_data) <- idx                                 #eliminates ? and replaces with NA\n",
    "\n",
    "heart_data[] <- sapply(heart_data, as.numeric) #converts all the data to numeric\n",
    "\n",
    "names = c('sex', 'cp', 'exang', 'slope', 'thal', 'num') #unsure if ca is a factor\n",
    "heart_data[,names] <- lapply(heart_data[,names] , factor)\n",
    "\n",
    "#levels(heart_data$num) <- list( '0' = \"Negative\", '1' = \"Postive\", '2' = \"Postive\", '3' = \"Postive\", '4' = \"Postive\")\n",
    "\n",
    "\n",
    "heart_data\n",
    "\n",
    "\n",
    "heart_split <- initial_split(heart_data, prop = 0.75, strata = num)\n",
    "heart_train <- training(heart_split)\n",
    "heart_test <- testing(heart_split) \n",
    "\n",
    "heart_train\n",
    "\n",
    "train_summary <- c(\"mean\", \"sd\", \"observations\", \"min\", \"max\")\n",
    "\n",
    "\n"
   ]
  },
  {
   "cell_type": "code",
   "execution_count": null,
   "id": "4d566cab-25f5-4fa2-8f5c-0cb469682d15",
   "metadata": {},
   "outputs": [],
   "source": []
  },
  {
   "cell_type": "code",
   "execution_count": null,
   "id": "1e38d4d6-856e-43f5-a708-df6bca70b285",
   "metadata": {},
   "outputs": [],
   "source": []
  }
 ],
 "metadata": {
  "kernelspec": {
   "display_name": "R",
   "language": "R",
   "name": "ir"
  },
  "language_info": {
   "codemirror_mode": "r",
   "file_extension": ".r",
   "mimetype": "text/x-r-source",
   "name": "R",
   "pygments_lexer": "r",
   "version": "4.1.3"
  }
 },
 "nbformat": 4,
 "nbformat_minor": 5
}
