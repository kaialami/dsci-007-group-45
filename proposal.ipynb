{
 "cells": [
  {
   "cell_type": "markdown",
   "id": "0837b949-1f97-418f-b43a-6c7a15668363",
   "metadata": {},
   "source": [
    "## Group proposal\n",
    "Title: Heart Disease Diagnostic Tool"
   ]
  },
  {
   "cell_type": "code",
   "execution_count": 41,
   "id": "d388ca57-44dd-41aa-9eb6-17a4bde105f6",
   "metadata": {},
   "outputs": [],
   "source": [
    "library(rvest)\n",
    "library(tidyverse)\n",
    "library(repr)\n",
    "library(tidymodels)\n",
    "options(repr.matrix.max.rows = 6)"
   ]
  },
  {
   "cell_type": "markdown",
   "id": "6de03826-18f9-4f1a-8867-4bf126d800c9",
   "metadata": {},
   "source": [
    "Introduction: "
   ]
  },
  {
   "cell_type": "code",
   "execution_count": 42,
   "id": "c4cb2088-3cc3-4065-ab13-81013d9aad3d",
   "metadata": {},
   "outputs": [
    {
     "name": "stderr",
     "output_type": "stream",
     "text": [
      "\u001b[1mRows: \u001b[22m\u001b[34m303\u001b[39m \u001b[1mColumns: \u001b[22m\u001b[34m14\u001b[39m\n",
      "\u001b[36m──\u001b[39m \u001b[1mColumn specification\u001b[22m \u001b[36m────────────────────────────────────────────────────────\u001b[39m\n",
      "\u001b[1mDelimiter:\u001b[22m \",\"\n",
      "\u001b[31mchr\u001b[39m  (2): X12, X13\n",
      "\u001b[32mdbl\u001b[39m (12): X1, X2, X3, X4, X5, X6, X7, X8, X9, X10, X11, X14\n",
      "\n",
      "\u001b[36mℹ\u001b[39m Use `spec()` to retrieve the full column specification for this data.\n",
      "\u001b[36mℹ\u001b[39m Specify the column types or set `show_col_types = FALSE` to quiet this message.\n"
     ]
    },
    {
     "data": {
      "text/html": [
       "<table class=\"dataframe\">\n",
       "<caption>A tibble: 303 × 14</caption>\n",
       "<thead>\n",
       "\t<tr><th scope=col>age</th><th scope=col>sex</th><th scope=col>cp</th><th scope=col>trestbps</th><th scope=col>chol</th><th scope=col>fbs</th><th scope=col>restecg</th><th scope=col>thalach</th><th scope=col>exang</th><th scope=col>oldpeak</th><th scope=col>slope</th><th scope=col>ca</th><th scope=col>thal</th><th scope=col>diagnosis</th></tr>\n",
       "\t<tr><th scope=col>&lt;dbl&gt;</th><th scope=col>&lt;fct&gt;</th><th scope=col>&lt;fct&gt;</th><th scope=col>&lt;dbl&gt;</th><th scope=col>&lt;dbl&gt;</th><th scope=col>&lt;dbl&gt;</th><th scope=col>&lt;dbl&gt;</th><th scope=col>&lt;dbl&gt;</th><th scope=col>&lt;fct&gt;</th><th scope=col>&lt;dbl&gt;</th><th scope=col>&lt;fct&gt;</th><th scope=col>&lt;dbl&gt;</th><th scope=col>&lt;fct&gt;</th><th scope=col>&lt;fct&gt;</th></tr>\n",
       "</thead>\n",
       "<tbody>\n",
       "\t<tr><td>63</td><td>1</td><td>1</td><td>145</td><td>233</td><td>1</td><td>2</td><td>150</td><td>0</td><td>2.3</td><td>3</td><td>0</td><td>6</td><td>Negative</td></tr>\n",
       "\t<tr><td>67</td><td>1</td><td>4</td><td>160</td><td>286</td><td>0</td><td>2</td><td>108</td><td>1</td><td>1.5</td><td>2</td><td>3</td><td>3</td><td>Positive</td></tr>\n",
       "\t<tr><td>67</td><td>1</td><td>4</td><td>120</td><td>229</td><td>0</td><td>2</td><td>129</td><td>1</td><td>2.6</td><td>2</td><td>2</td><td>7</td><td>Positive</td></tr>\n",
       "\t<tr><td>⋮</td><td>⋮</td><td>⋮</td><td>⋮</td><td>⋮</td><td>⋮</td><td>⋮</td><td>⋮</td><td>⋮</td><td>⋮</td><td>⋮</td><td>⋮</td><td>⋮</td><td>⋮</td></tr>\n",
       "\t<tr><td>57</td><td>1</td><td>4</td><td>130</td><td>131</td><td>0</td><td>0</td><td>115</td><td>1</td><td>1.2</td><td>2</td><td> 1</td><td>7</td><td>Positive</td></tr>\n",
       "\t<tr><td>57</td><td>0</td><td>2</td><td>130</td><td>236</td><td>0</td><td>2</td><td>174</td><td>0</td><td>0.0</td><td>2</td><td> 1</td><td>3</td><td>Positive</td></tr>\n",
       "\t<tr><td>38</td><td>1</td><td>3</td><td>138</td><td>175</td><td>0</td><td>0</td><td>173</td><td>0</td><td>0.0</td><td>1</td><td>NA</td><td>3</td><td>Negative</td></tr>\n",
       "</tbody>\n",
       "</table>\n"
      ],
      "text/latex": [
       "A tibble: 303 × 14\n",
       "\\begin{tabular}{llllllllllllll}\n",
       " age & sex & cp & trestbps & chol & fbs & restecg & thalach & exang & oldpeak & slope & ca & thal & diagnosis\\\\\n",
       " <dbl> & <fct> & <fct> & <dbl> & <dbl> & <dbl> & <dbl> & <dbl> & <fct> & <dbl> & <fct> & <dbl> & <fct> & <fct>\\\\\n",
       "\\hline\n",
       "\t 63 & 1 & 1 & 145 & 233 & 1 & 2 & 150 & 0 & 2.3 & 3 & 0 & 6 & Negative\\\\\n",
       "\t 67 & 1 & 4 & 160 & 286 & 0 & 2 & 108 & 1 & 1.5 & 2 & 3 & 3 & Positive\\\\\n",
       "\t 67 & 1 & 4 & 120 & 229 & 0 & 2 & 129 & 1 & 2.6 & 2 & 2 & 7 & Positive\\\\\n",
       "\t ⋮ & ⋮ & ⋮ & ⋮ & ⋮ & ⋮ & ⋮ & ⋮ & ⋮ & ⋮ & ⋮ & ⋮ & ⋮ & ⋮\\\\\n",
       "\t 57 & 1 & 4 & 130 & 131 & 0 & 0 & 115 & 1 & 1.2 & 2 &  1 & 7 & Positive\\\\\n",
       "\t 57 & 0 & 2 & 130 & 236 & 0 & 2 & 174 & 0 & 0.0 & 2 &  1 & 3 & Positive\\\\\n",
       "\t 38 & 1 & 3 & 138 & 175 & 0 & 0 & 173 & 0 & 0.0 & 1 & NA & 3 & Negative\\\\\n",
       "\\end{tabular}\n"
      ],
      "text/markdown": [
       "\n",
       "A tibble: 303 × 14\n",
       "\n",
       "| age &lt;dbl&gt; | sex &lt;fct&gt; | cp &lt;fct&gt; | trestbps &lt;dbl&gt; | chol &lt;dbl&gt; | fbs &lt;dbl&gt; | restecg &lt;dbl&gt; | thalach &lt;dbl&gt; | exang &lt;fct&gt; | oldpeak &lt;dbl&gt; | slope &lt;fct&gt; | ca &lt;dbl&gt; | thal &lt;fct&gt; | diagnosis &lt;fct&gt; |\n",
       "|---|---|---|---|---|---|---|---|---|---|---|---|---|---|\n",
       "| 63 | 1 | 1 | 145 | 233 | 1 | 2 | 150 | 0 | 2.3 | 3 | 0 | 6 | Negative |\n",
       "| 67 | 1 | 4 | 160 | 286 | 0 | 2 | 108 | 1 | 1.5 | 2 | 3 | 3 | Positive |\n",
       "| 67 | 1 | 4 | 120 | 229 | 0 | 2 | 129 | 1 | 2.6 | 2 | 2 | 7 | Positive |\n",
       "| ⋮ | ⋮ | ⋮ | ⋮ | ⋮ | ⋮ | ⋮ | ⋮ | ⋮ | ⋮ | ⋮ | ⋮ | ⋮ | ⋮ |\n",
       "| 57 | 1 | 4 | 130 | 131 | 0 | 0 | 115 | 1 | 1.2 | 2 |  1 | 7 | Positive |\n",
       "| 57 | 0 | 2 | 130 | 236 | 0 | 2 | 174 | 0 | 0.0 | 2 |  1 | 3 | Positive |\n",
       "| 38 | 1 | 3 | 138 | 175 | 0 | 0 | 173 | 0 | 0.0 | 1 | NA | 3 | Negative |\n",
       "\n"
      ],
      "text/plain": [
       "    age sex cp trestbps chol fbs restecg thalach exang oldpeak slope ca thal\n",
       "1   63  1   1  145      233  1   2       150     0     2.3     3     0  6   \n",
       "2   67  1   4  160      286  0   2       108     1     1.5     2     3  3   \n",
       "3   67  1   4  120      229  0   2       129     1     2.6     2     2  7   \n",
       "⋮   ⋮   ⋮   ⋮  ⋮        ⋮    ⋮   ⋮       ⋮       ⋮     ⋮       ⋮     ⋮  ⋮   \n",
       "301 57  1   4  130      131  0   0       115     1     1.2     2      1 7   \n",
       "302 57  0   2  130      236  0   2       174     0     0.0     2      1 3   \n",
       "303 38  1   3  138      175  0   0       173     0     0.0     1     NA 3   \n",
       "    diagnosis\n",
       "1   Negative \n",
       "2   Positive \n",
       "3   Positive \n",
       "⋮   ⋮        \n",
       "301 Positive \n",
       "302 Positive \n",
       "303 Negative "
      ]
     },
     "metadata": {},
     "output_type": "display_data"
    },
    {
     "data": {
      "text/html": [
       "<table class=\"dataframe\">\n",
       "<caption>A tibble: 227 × 14</caption>\n",
       "<thead>\n",
       "\t<tr><th scope=col>age</th><th scope=col>sex</th><th scope=col>cp</th><th scope=col>trestbps</th><th scope=col>chol</th><th scope=col>fbs</th><th scope=col>restecg</th><th scope=col>thalach</th><th scope=col>exang</th><th scope=col>oldpeak</th><th scope=col>slope</th><th scope=col>ca</th><th scope=col>thal</th><th scope=col>diagnosis</th></tr>\n",
       "\t<tr><th scope=col>&lt;dbl&gt;</th><th scope=col>&lt;fct&gt;</th><th scope=col>&lt;fct&gt;</th><th scope=col>&lt;dbl&gt;</th><th scope=col>&lt;dbl&gt;</th><th scope=col>&lt;dbl&gt;</th><th scope=col>&lt;dbl&gt;</th><th scope=col>&lt;dbl&gt;</th><th scope=col>&lt;fct&gt;</th><th scope=col>&lt;dbl&gt;</th><th scope=col>&lt;fct&gt;</th><th scope=col>&lt;dbl&gt;</th><th scope=col>&lt;fct&gt;</th><th scope=col>&lt;fct&gt;</th></tr>\n",
       "</thead>\n",
       "<tbody>\n",
       "\t<tr><td>63</td><td>1</td><td>1</td><td>145</td><td>233</td><td>1</td><td>2</td><td>150</td><td>0</td><td>2.3</td><td>3</td><td>0</td><td>6</td><td>Negative</td></tr>\n",
       "\t<tr><td>37</td><td>1</td><td>3</td><td>130</td><td>250</td><td>0</td><td>0</td><td>187</td><td>0</td><td>3.5</td><td>3</td><td>0</td><td>3</td><td>Negative</td></tr>\n",
       "\t<tr><td>41</td><td>0</td><td>2</td><td>130</td><td>204</td><td>0</td><td>2</td><td>172</td><td>0</td><td>1.4</td><td>1</td><td>0</td><td>3</td><td>Negative</td></tr>\n",
       "\t<tr><td>⋮</td><td>⋮</td><td>⋮</td><td>⋮</td><td>⋮</td><td>⋮</td><td>⋮</td><td>⋮</td><td>⋮</td><td>⋮</td><td>⋮</td><td>⋮</td><td>⋮</td><td>⋮</td></tr>\n",
       "\t<tr><td>68</td><td>1</td><td>4</td><td>144</td><td>193</td><td>1</td><td>0</td><td>141</td><td>0</td><td>3.4</td><td>2</td><td>2</td><td>7</td><td>Positive</td></tr>\n",
       "\t<tr><td>57</td><td>1</td><td>4</td><td>130</td><td>131</td><td>0</td><td>0</td><td>115</td><td>1</td><td>1.2</td><td>2</td><td>1</td><td>7</td><td>Positive</td></tr>\n",
       "\t<tr><td>57</td><td>0</td><td>2</td><td>130</td><td>236</td><td>0</td><td>2</td><td>174</td><td>0</td><td>0.0</td><td>2</td><td>1</td><td>3</td><td>Positive</td></tr>\n",
       "</tbody>\n",
       "</table>\n"
      ],
      "text/latex": [
       "A tibble: 227 × 14\n",
       "\\begin{tabular}{llllllllllllll}\n",
       " age & sex & cp & trestbps & chol & fbs & restecg & thalach & exang & oldpeak & slope & ca & thal & diagnosis\\\\\n",
       " <dbl> & <fct> & <fct> & <dbl> & <dbl> & <dbl> & <dbl> & <dbl> & <fct> & <dbl> & <fct> & <dbl> & <fct> & <fct>\\\\\n",
       "\\hline\n",
       "\t 63 & 1 & 1 & 145 & 233 & 1 & 2 & 150 & 0 & 2.3 & 3 & 0 & 6 & Negative\\\\\n",
       "\t 37 & 1 & 3 & 130 & 250 & 0 & 0 & 187 & 0 & 3.5 & 3 & 0 & 3 & Negative\\\\\n",
       "\t 41 & 0 & 2 & 130 & 204 & 0 & 2 & 172 & 0 & 1.4 & 1 & 0 & 3 & Negative\\\\\n",
       "\t ⋮ & ⋮ & ⋮ & ⋮ & ⋮ & ⋮ & ⋮ & ⋮ & ⋮ & ⋮ & ⋮ & ⋮ & ⋮ & ⋮\\\\\n",
       "\t 68 & 1 & 4 & 144 & 193 & 1 & 0 & 141 & 0 & 3.4 & 2 & 2 & 7 & Positive\\\\\n",
       "\t 57 & 1 & 4 & 130 & 131 & 0 & 0 & 115 & 1 & 1.2 & 2 & 1 & 7 & Positive\\\\\n",
       "\t 57 & 0 & 2 & 130 & 236 & 0 & 2 & 174 & 0 & 0.0 & 2 & 1 & 3 & Positive\\\\\n",
       "\\end{tabular}\n"
      ],
      "text/markdown": [
       "\n",
       "A tibble: 227 × 14\n",
       "\n",
       "| age &lt;dbl&gt; | sex &lt;fct&gt; | cp &lt;fct&gt; | trestbps &lt;dbl&gt; | chol &lt;dbl&gt; | fbs &lt;dbl&gt; | restecg &lt;dbl&gt; | thalach &lt;dbl&gt; | exang &lt;fct&gt; | oldpeak &lt;dbl&gt; | slope &lt;fct&gt; | ca &lt;dbl&gt; | thal &lt;fct&gt; | diagnosis &lt;fct&gt; |\n",
       "|---|---|---|---|---|---|---|---|---|---|---|---|---|---|\n",
       "| 63 | 1 | 1 | 145 | 233 | 1 | 2 | 150 | 0 | 2.3 | 3 | 0 | 6 | Negative |\n",
       "| 37 | 1 | 3 | 130 | 250 | 0 | 0 | 187 | 0 | 3.5 | 3 | 0 | 3 | Negative |\n",
       "| 41 | 0 | 2 | 130 | 204 | 0 | 2 | 172 | 0 | 1.4 | 1 | 0 | 3 | Negative |\n",
       "| ⋮ | ⋮ | ⋮ | ⋮ | ⋮ | ⋮ | ⋮ | ⋮ | ⋮ | ⋮ | ⋮ | ⋮ | ⋮ | ⋮ |\n",
       "| 68 | 1 | 4 | 144 | 193 | 1 | 0 | 141 | 0 | 3.4 | 2 | 2 | 7 | Positive |\n",
       "| 57 | 1 | 4 | 130 | 131 | 0 | 0 | 115 | 1 | 1.2 | 2 | 1 | 7 | Positive |\n",
       "| 57 | 0 | 2 | 130 | 236 | 0 | 2 | 174 | 0 | 0.0 | 2 | 1 | 3 | Positive |\n",
       "\n"
      ],
      "text/plain": [
       "    age sex cp trestbps chol fbs restecg thalach exang oldpeak slope ca thal\n",
       "1   63  1   1  145      233  1   2       150     0     2.3     3     0  6   \n",
       "2   37  1   3  130      250  0   0       187     0     3.5     3     0  3   \n",
       "3   41  0   2  130      204  0   2       172     0     1.4     1     0  3   \n",
       "⋮   ⋮   ⋮   ⋮  ⋮        ⋮    ⋮   ⋮       ⋮       ⋮     ⋮       ⋮     ⋮  ⋮   \n",
       "225 68  1   4  144      193  1   0       141     0     3.4     2     2  7   \n",
       "226 57  1   4  130      131  0   0       115     1     1.2     2     1  7   \n",
       "227 57  0   2  130      236  0   2       174     0     0.0     2     1  3   \n",
       "    diagnosis\n",
       "1   Negative \n",
       "2   Negative \n",
       "3   Negative \n",
       "⋮   ⋮        \n",
       "225 Positive \n",
       "226 Positive \n",
       "227 Positive "
      ]
     },
     "metadata": {},
     "output_type": "display_data"
    },
    {
     "name": "stderr",
     "output_type": "stream",
     "text": [
      "Warning message in mean.default(col, ...):\n",
      "“argument is not numeric or logical: returning NA”\n",
      "Warning message in mean.default(col, ...):\n",
      "“argument is not numeric or logical: returning NA”\n",
      "Warning message in mean.default(col, ...):\n",
      "“argument is not numeric or logical: returning NA”\n",
      "Warning message in mean.default(col, ...):\n",
      "“argument is not numeric or logical: returning NA”\n",
      "Warning message in mean.default(col, ...):\n",
      "“argument is not numeric or logical: returning NA”\n",
      "Warning message in mean.default(col, ...):\n",
      "“argument is not numeric or logical: returning NA”\n"
     ]
    },
    {
     "data": {
      "text/html": [
       "<table class=\"dataframe\">\n",
       "<caption>A tibble: 1 × 14</caption>\n",
       "<thead>\n",
       "\t<tr><th scope=col>age</th><th scope=col>sex</th><th scope=col>cp</th><th scope=col>trestbps</th><th scope=col>chol</th><th scope=col>fbs</th><th scope=col>restecg</th><th scope=col>thalach</th><th scope=col>exang</th><th scope=col>oldpeak</th><th scope=col>slope</th><th scope=col>ca</th><th scope=col>thal</th><th scope=col>diagnosis</th></tr>\n",
       "\t<tr><th scope=col>&lt;dbl&gt;</th><th scope=col>&lt;dbl&gt;</th><th scope=col>&lt;dbl&gt;</th><th scope=col>&lt;dbl&gt;</th><th scope=col>&lt;dbl&gt;</th><th scope=col>&lt;dbl&gt;</th><th scope=col>&lt;dbl&gt;</th><th scope=col>&lt;dbl&gt;</th><th scope=col>&lt;dbl&gt;</th><th scope=col>&lt;dbl&gt;</th><th scope=col>&lt;dbl&gt;</th><th scope=col>&lt;dbl&gt;</th><th scope=col>&lt;dbl&gt;</th><th scope=col>&lt;dbl&gt;</th></tr>\n",
       "</thead>\n",
       "<tbody>\n",
       "\t<tr><td>54.00441</td><td>NA</td><td>NA</td><td>130.0617</td><td>243.511</td><td>0.1365639</td><td>0.9779736</td><td>149.8767</td><td>NA</td><td>1.032159</td><td>NA</td><td>0.7098214</td><td>NA</td><td>NA</td></tr>\n",
       "</tbody>\n",
       "</table>\n"
      ],
      "text/latex": [
       "A tibble: 1 × 14\n",
       "\\begin{tabular}{llllllllllllll}\n",
       " age & sex & cp & trestbps & chol & fbs & restecg & thalach & exang & oldpeak & slope & ca & thal & diagnosis\\\\\n",
       " <dbl> & <dbl> & <dbl> & <dbl> & <dbl> & <dbl> & <dbl> & <dbl> & <dbl> & <dbl> & <dbl> & <dbl> & <dbl> & <dbl>\\\\\n",
       "\\hline\n",
       "\t 54.00441 & NA & NA & 130.0617 & 243.511 & 0.1365639 & 0.9779736 & 149.8767 & NA & 1.032159 & NA & 0.7098214 & NA & NA\\\\\n",
       "\\end{tabular}\n"
      ],
      "text/markdown": [
       "\n",
       "A tibble: 1 × 14\n",
       "\n",
       "| age &lt;dbl&gt; | sex &lt;dbl&gt; | cp &lt;dbl&gt; | trestbps &lt;dbl&gt; | chol &lt;dbl&gt; | fbs &lt;dbl&gt; | restecg &lt;dbl&gt; | thalach &lt;dbl&gt; | exang &lt;dbl&gt; | oldpeak &lt;dbl&gt; | slope &lt;dbl&gt; | ca &lt;dbl&gt; | thal &lt;dbl&gt; | diagnosis &lt;dbl&gt; |\n",
       "|---|---|---|---|---|---|---|---|---|---|---|---|---|---|\n",
       "| 54.00441 | NA | NA | 130.0617 | 243.511 | 0.1365639 | 0.9779736 | 149.8767 | NA | 1.032159 | NA | 0.7098214 | NA | NA |\n",
       "\n"
      ],
      "text/plain": [
       "  age      sex cp trestbps chol    fbs       restecg   thalach  exang oldpeak \n",
       "1 54.00441 NA  NA 130.0617 243.511 0.1365639 0.9779736 149.8767 NA    1.032159\n",
       "  slope ca        thal diagnosis\n",
       "1 NA    0.7098214 NA   NA       "
      ]
     },
     "metadata": {},
     "output_type": "display_data"
    },
    {
     "data": {
      "text/html": [
       "<table class=\"dataframe\">\n",
       "<caption>A tibble: 2 × 2</caption>\n",
       "<thead>\n",
       "\t<tr><th scope=col>diagnosis</th><th scope=col>count</th></tr>\n",
       "\t<tr><th scope=col>&lt;fct&gt;</th><th scope=col>&lt;int&gt;</th></tr>\n",
       "</thead>\n",
       "<tbody>\n",
       "\t<tr><td>Negative</td><td>123</td></tr>\n",
       "\t<tr><td>Positive</td><td>104</td></tr>\n",
       "</tbody>\n",
       "</table>\n"
      ],
      "text/latex": [
       "A tibble: 2 × 2\n",
       "\\begin{tabular}{ll}\n",
       " diagnosis & count\\\\\n",
       " <fct> & <int>\\\\\n",
       "\\hline\n",
       "\t Negative & 123\\\\\n",
       "\t Positive & 104\\\\\n",
       "\\end{tabular}\n"
      ],
      "text/markdown": [
       "\n",
       "A tibble: 2 × 2\n",
       "\n",
       "| diagnosis &lt;fct&gt; | count &lt;int&gt; |\n",
       "|---|---|\n",
       "| Negative | 123 |\n",
       "| Positive | 104 |\n",
       "\n"
      ],
      "text/plain": [
       "  diagnosis count\n",
       "1 Negative  123  \n",
       "2 Positive  104  "
      ]
     },
     "metadata": {},
     "output_type": "display_data"
    },
    {
     "data": {
      "text/plain": [
       "\n",
       "Negative Positive \n",
       "     123      104 "
      ]
     },
     "metadata": {},
     "output_type": "display_data"
    }
   ],
   "source": [
    "set.seed(293)\n",
    "\n",
    "dataset_test <- download.file(\n",
    "    \"https://archive.ics.uci.edu/ml/machine-learning-databases/heart-disease/processed.cleveland.data\", \n",
    "    \"heart_disease.csv\")\n",
    "\n",
    "heart_data <- read_csv(\"heart_disease.csv\", col_names = FALSE)\n",
    "\n",
    "\n",
    "heart_data <- rename(heart_data, \n",
    "                     age =X1,\n",
    "                     sex =X2,\n",
    "                     cp =X3,\n",
    "                     trestbps =X4,\n",
    "                     chol = X5,\n",
    "                     fbs =X6,\n",
    "                     restecg=X7,\n",
    "                     thalach=X8,\n",
    "                     exang=X9,\n",
    "                     oldpeak=X10,\n",
    "                     slope=X11,\n",
    "                     ca=X12,\n",
    "                     thal=X13,\n",
    "                     diagnosis=X14)\n",
    "\n",
    "idx <- heart_data == \"?\"\n",
    "is.na(heart_data) <- idx                                 #eliminates ? and replaces with NA\n",
    "\n",
    "heart_data[] <- sapply(heart_data, as.numeric) #converts all the data to numeric\n",
    "\n",
    "names = c('sex', 'cp', 'exang', 'slope', 'thal', 'diagnosis') #unsure if ca is a factor\n",
    "heart_data[,names] <- lapply(heart_data[,names] , factor)\n",
    "\n",
    "heart_data <- mutate(heart_data, diagnosis = ifelse(diagnosis == \"1\"|diagnosis == \"2\"|diagnosis == \"3\"|diagnosis == \"4\", \"Positive\", \"Negative\"))\n",
    "heart_data <- mutate(heart_data, diagnosis = as.factor(diagnosis))          #changes the diagnosis values to strings\n",
    "\n",
    "heart_data\n",
    "\n",
    "\n",
    "\n",
    "heart_split <- initial_split(heart_data, prop = 0.75, strata = diagnosis)          #splits data\n",
    "heart_train <- training(heart_split)\n",
    "heart_test <- testing(heart_split) \n",
    "\n",
    "heart_train\n",
    "\n",
    "train_summary <- heart_train |>\n",
    "    summarize(across(age:diagnosis, mean, na.rm=TRUE))\n",
    "train_summary\n",
    "\n",
    "count_train_summary <- group_by(heart_train, diagnosis) |>\n",
    "    summarize(count=n())\n",
    "count_train_summary\n",
    "\n",
    "table(heart_train$diagnosis, useNA = \"ifany\")                 # potential way to get the count of each class \n",
    "# heart_table = matrix(c(1:70), ncol = 14, byrow=TRUE)\n",
    "# colnames(heart_table) = c(\"age\",\"sex\", \"cp\", \"trestbps\", \"chol\", \"fbs\", \"restecg\", \"thalach\", \n",
    "#                           \"exang\", \"oldpeak\", \"slope\", \"ca\", \"thal\", \"diagnosis\")\n",
    "# rownames(heart_table) <- c(\"mean\", \"sd\", \"observations\", \"min\", \"max\")\n",
    "\n",
    "# heart_table\n",
    "\n",
    "\n",
    "\n",
    "\n",
    "\n",
    "\n",
    "\n",
    "\n",
    "# heart_test_graph <- heart_train |>\n",
    "#     ggplot(aes(x = diagnosis, y = thalach)) + #color = diagnosis)) +\n",
    "#     geom_point()\n",
    "\n",
    "# heart_test_graph"
   ]
  },
  {
   "cell_type": "code",
   "execution_count": null,
   "id": "4d566cab-25f5-4fa2-8f5c-0cb469682d15",
   "metadata": {},
   "outputs": [],
   "source": []
  },
  {
   "cell_type": "code",
   "execution_count": null,
   "id": "1e38d4d6-856e-43f5-a708-df6bca70b285",
   "metadata": {},
   "outputs": [],
   "source": []
  }
 ],
 "metadata": {
  "kernelspec": {
   "display_name": "R",
   "language": "R",
   "name": "ir"
  },
  "language_info": {
   "codemirror_mode": "r",
   "file_extension": ".r",
   "mimetype": "text/x-r-source",
   "name": "R",
   "pygments_lexer": "r",
   "version": "4.1.3"
  }
 },
 "nbformat": 4,
 "nbformat_minor": 5
}
